{
  "cells": [
    {
      "cell_type": "code",
      "execution_count": 3,
      "metadata": {
        "colab": {
          "base_uri": "https://localhost:8080/"
        },
        "id": "Tzf5lkesqLXZ",
        "outputId": "bf9b9c64-e32b-449f-aba5-88619b6a4117"
      },
      "outputs": [
        {
          "name": "stdout",
          "output_type": "stream",
          "text": [
            "Drive already mounted at /content/drive; to attempt to forcibly remount, call drive.mount(\"/content/drive\", force_remount=True).\n"
          ]
        }
      ],
      "source": [
        "from google.colab import drive\n",
        "drive.mount('/content/drive')"
      ]
    },
    {
      "cell_type": "code",
      "execution_count": 4,
      "metadata": {
        "id": "zGYkxuvDqgbQ"
      },
      "outputs": [],
      "source": [
        "import numpy as np\n",
        "import pandas as pd\n",
        "import matplotlib.pyplot as plt\n",
        "import cv2\n",
        "import tensorflow as tf\n",
        "from PIL import Image\n",
        "import os\n",
        "#os.chdir('D:/Traffic_Sign_Recognition')\n",
        "from sklearn.model_selection import train_test_split\n",
        "#from keras.utils import to_categorical\n",
        "from keras.models import Sequential, load_model\n",
        "from keras.layers import Conv2D, MaxPool2D, Dense, Flatten, Dropout"
      ]
    },
    {
      "cell_type": "code",
      "execution_count": 2,
      "metadata": {
        "colab": {
          "base_uri": "https://localhost:8080/"
        },
        "id": "0_MwJSE7qlj3",
        "outputId": "9bc8fb05-852b-4c6e-c9e3-686aaba5794b"
      },
      "outputs": [
        {
          "name": "stdout",
          "output_type": "stream",
          "text": [
            "Requirement already satisfied: tensorflow==2.13.0 in /usr/local/lib/python3.10/dist-packages (2.13.0)\n",
            "Requirement already satisfied: keras==2.13.1 in /usr/local/lib/python3.10/dist-packages (2.13.1)\n",
            "Requirement already satisfied: tensorflow-addons==0.21.0 in /usr/local/lib/python3.10/dist-packages (0.21.0)\n",
            "Requirement already satisfied: absl-py>=1.0.0 in /usr/local/lib/python3.10/dist-packages (from tensorflow==2.13.0) (1.4.0)\n",
            "Requirement already satisfied: astunparse>=1.6.0 in /usr/local/lib/python3.10/dist-packages (from tensorflow==2.13.0) (1.6.3)\n",
            "Requirement already satisfied: flatbuffers>=23.1.21 in /usr/local/lib/python3.10/dist-packages (from tensorflow==2.13.0) (24.3.25)\n",
            "Requirement already satisfied: gast<=0.4.0,>=0.2.1 in /usr/local/lib/python3.10/dist-packages (from tensorflow==2.13.0) (0.4.0)\n",
            "Requirement already satisfied: google-pasta>=0.1.1 in /usr/local/lib/python3.10/dist-packages (from tensorflow==2.13.0) (0.2.0)\n",
            "Requirement already satisfied: grpcio<2.0,>=1.24.3 in /usr/local/lib/python3.10/dist-packages (from tensorflow==2.13.0) (1.68.1)\n",
            "Requirement already satisfied: h5py>=2.9.0 in /usr/local/lib/python3.10/dist-packages (from tensorflow==2.13.0) (3.12.1)\n",
            "Requirement already satisfied: libclang>=13.0.0 in /usr/local/lib/python3.10/dist-packages (from tensorflow==2.13.0) (18.1.1)\n",
            "Requirement already satisfied: numpy<=1.24.3,>=1.22 in /usr/local/lib/python3.10/dist-packages (from tensorflow==2.13.0) (1.24.3)\n",
            "Requirement already satisfied: opt-einsum>=2.3.2 in /usr/local/lib/python3.10/dist-packages (from tensorflow==2.13.0) (3.4.0)\n",
            "Requirement already satisfied: packaging in /usr/local/lib/python3.10/dist-packages (from tensorflow==2.13.0) (24.2)\n",
            "Requirement already satisfied: protobuf!=4.21.0,!=4.21.1,!=4.21.2,!=4.21.3,!=4.21.4,!=4.21.5,<5.0.0dev,>=3.20.3 in /usr/local/lib/python3.10/dist-packages (from tensorflow==2.13.0) (4.25.5)\n",
            "Requirement already satisfied: setuptools in /usr/local/lib/python3.10/dist-packages (from tensorflow==2.13.0) (75.1.0)\n",
            "Requirement already satisfied: six>=1.12.0 in /usr/local/lib/python3.10/dist-packages (from tensorflow==2.13.0) (1.17.0)\n",
            "Requirement already satisfied: tensorboard<2.14,>=2.13 in /usr/local/lib/python3.10/dist-packages (from tensorflow==2.13.0) (2.13.0)\n",
            "Requirement already satisfied: tensorflow-estimator<2.14,>=2.13.0 in /usr/local/lib/python3.10/dist-packages (from tensorflow==2.13.0) (2.13.0)\n",
            "Requirement already satisfied: termcolor>=1.1.0 in /usr/local/lib/python3.10/dist-packages (from tensorflow==2.13.0) (2.5.0)\n",
            "Requirement already satisfied: typing-extensions<4.6.0,>=3.6.6 in /usr/local/lib/python3.10/dist-packages (from tensorflow==2.13.0) (4.5.0)\n",
            "Requirement already satisfied: wrapt>=1.11.0 in /usr/local/lib/python3.10/dist-packages (from tensorflow==2.13.0) (1.17.0)\n",
            "Requirement already satisfied: tensorflow-io-gcs-filesystem>=0.23.1 in /usr/local/lib/python3.10/dist-packages (from tensorflow==2.13.0) (0.37.1)\n",
            "Requirement already satisfied: typeguard<3.0.0,>=2.7 in /usr/local/lib/python3.10/dist-packages (from tensorflow-addons==0.21.0) (2.13.3)\n",
            "Requirement already satisfied: wheel<1.0,>=0.23.0 in /usr/local/lib/python3.10/dist-packages (from astunparse>=1.6.0->tensorflow==2.13.0) (0.45.1)\n",
            "Requirement already satisfied: google-auth<3,>=1.6.3 in /usr/local/lib/python3.10/dist-packages (from tensorboard<2.14,>=2.13->tensorflow==2.13.0) (2.27.0)\n",
            "Requirement already satisfied: google-auth-oauthlib<1.1,>=0.5 in /usr/local/lib/python3.10/dist-packages (from tensorboard<2.14,>=2.13->tensorflow==2.13.0) (1.0.0)\n",
            "Requirement already satisfied: markdown>=2.6.8 in /usr/local/lib/python3.10/dist-packages (from tensorboard<2.14,>=2.13->tensorflow==2.13.0) (3.7)\n",
            "Requirement already satisfied: requests<3,>=2.21.0 in /usr/local/lib/python3.10/dist-packages (from tensorboard<2.14,>=2.13->tensorflow==2.13.0) (2.32.3)\n",
            "Requirement already satisfied: tensorboard-data-server<0.8.0,>=0.7.0 in /usr/local/lib/python3.10/dist-packages (from tensorboard<2.14,>=2.13->tensorflow==2.13.0) (0.7.2)\n",
            "Requirement already satisfied: werkzeug>=1.0.1 in /usr/local/lib/python3.10/dist-packages (from tensorboard<2.14,>=2.13->tensorflow==2.13.0) (3.1.3)\n",
            "Requirement already satisfied: cachetools<6.0,>=2.0.0 in /usr/local/lib/python3.10/dist-packages (from google-auth<3,>=1.6.3->tensorboard<2.14,>=2.13->tensorflow==2.13.0) (5.5.0)\n",
            "Requirement already satisfied: pyasn1-modules>=0.2.1 in /usr/local/lib/python3.10/dist-packages (from google-auth<3,>=1.6.3->tensorboard<2.14,>=2.13->tensorflow==2.13.0) (0.4.1)\n",
            "Requirement already satisfied: rsa<5,>=3.1.4 in /usr/local/lib/python3.10/dist-packages (from google-auth<3,>=1.6.3->tensorboard<2.14,>=2.13->tensorflow==2.13.0) (4.9)\n",
            "Requirement already satisfied: requests-oauthlib>=0.7.0 in /usr/local/lib/python3.10/dist-packages (from google-auth-oauthlib<1.1,>=0.5->tensorboard<2.14,>=2.13->tensorflow==2.13.0) (1.3.1)\n",
            "Requirement already satisfied: charset-normalizer<4,>=2 in /usr/local/lib/python3.10/dist-packages (from requests<3,>=2.21.0->tensorboard<2.14,>=2.13->tensorflow==2.13.0) (3.4.0)\n",
            "Requirement already satisfied: idna<4,>=2.5 in /usr/local/lib/python3.10/dist-packages (from requests<3,>=2.21.0->tensorboard<2.14,>=2.13->tensorflow==2.13.0) (3.10)\n",
            "Requirement already satisfied: urllib3<3,>=1.21.1 in /usr/local/lib/python3.10/dist-packages (from requests<3,>=2.21.0->tensorboard<2.14,>=2.13->tensorflow==2.13.0) (2.2.3)\n",
            "Requirement already satisfied: certifi>=2017.4.17 in /usr/local/lib/python3.10/dist-packages (from requests<3,>=2.21.0->tensorboard<2.14,>=2.13->tensorflow==2.13.0) (2024.8.30)\n",
            "Requirement already satisfied: MarkupSafe>=2.1.1 in /usr/local/lib/python3.10/dist-packages (from werkzeug>=1.0.1->tensorboard<2.14,>=2.13->tensorflow==2.13.0) (3.0.2)\n",
            "Requirement already satisfied: pyasn1<0.7.0,>=0.4.6 in /usr/local/lib/python3.10/dist-packages (from pyasn1-modules>=0.2.1->google-auth<3,>=1.6.3->tensorboard<2.14,>=2.13->tensorflow==2.13.0) (0.6.1)\n",
            "Requirement already satisfied: oauthlib>=3.0.0 in /usr/local/lib/python3.10/dist-packages (from requests-oauthlib>=0.7.0->google-auth-oauthlib<1.1,>=0.5->tensorboard<2.14,>=2.13->tensorflow==2.13.0) (3.2.2)\n"
          ]
        }
      ],
      "source": [
        "!pip install tensorflow==2.13.0 keras==2.13.1 tensorflow-addons==0.21.0"
      ]
    },
    {
      "cell_type": "code",
      "execution_count": 1,
      "metadata": {
        "colab": {
          "base_uri": "https://localhost:8080/"
        },
        "id": "Ev-69JwVqqDn",
        "outputId": "5f8cf18f-7bf0-4674-ec09-88109cb3204b"
      },
      "outputs": [
        {
          "name": "stderr",
          "output_type": "stream",
          "text": [
            "/usr/local/lib/python3.10/dist-packages/tensorflow_addons/utils/tfa_eol_msg.py:23: UserWarning: \n",
            "\n",
            "TensorFlow Addons (TFA) has ended development and introduction of new features.\n",
            "TFA has entered a minimal maintenance and release mode until a planned end of life in May 2024.\n",
            "Please modify downstream libraries to take dependencies from other repositories in our TensorFlow community (e.g. Keras, Keras-CV, and Keras-NLP). \n",
            "\n",
            "For more information see: https://github.com/tensorflow/addons/issues/2807 \n",
            "\n",
            "  warnings.warn(\n"
          ]
        }
      ],
      "source": [
        "import numpy as np\n",
        "import tensorflow as tf\n",
        "from tensorflow import keras\n",
        "from tensorflow.keras import layers\n",
        "import tensorflow_addons as tfa"
      ]
    },
    {
      "cell_type": "code",
      "execution_count": 5,
      "metadata": {
        "id": "6OASXIQ8qtCe"
      },
      "outputs": [],
      "source": [
        "data = []\n",
        "labels = []\n",
        "classes = 3\n",
        "cur_path = '/content/drive/MyDrive/work'"
      ]
    },
    {
      "cell_type": "code",
      "execution_count": 6,
      "metadata": {
        "colab": {
          "base_uri": "https://localhost:8080/",
          "height": 35
        },
        "id": "fnhUfierqwJr",
        "outputId": "3777cc13-4d4b-414a-ef20-7dafb130f61f"
      },
      "outputs": [
        {
          "data": {
            "application/vnd.google.colaboratory.intrinsic+json": {
              "type": "string"
            },
            "text/plain": [
              "'/content/drive/MyDrive/work'"
            ]
          },
          "execution_count": 6,
          "metadata": {},
          "output_type": "execute_result"
        }
      ],
      "source": [
        "cur_path"
      ]
    },
    {
      "cell_type": "code",
      "execution_count": 7,
      "metadata": {
        "colab": {
          "base_uri": "https://localhost:8080/"
        },
        "id": "SU1_4EKrqycS",
        "outputId": "449dffbf-5baa-4b8b-c5b4-4991e3056b79"
      },
      "outputs": [
        {
          "name": "stdout",
          "output_type": "stream",
          "text": [
            "Processing Adenocarcinoma cases (Class 0)...\n",
            "Processing Largecell Carcinoma cases (Class 1)...\n",
            "Processing Normal cases (Class 2)...\n",
            "Processed 1098 images.\n"
          ]
        }
      ],
      "source": [
        "# Map class labels to folder names\n",
        "class_mapping = {\n",
        "    0: \"Adenocarcinoma cases\",\n",
        "    1: \"Largecell Carcinoma cases\",\n",
        "    2: \"Normal cases\"\n",
        "\n",
        "}\n",
        "\n",
        "data = []\n",
        "labels = []\n",
        "\n",
        "cur_path = \"/content/drive/MyDrive/work/\"\n",
        "train_path = os.path.join(cur_path)\n",
        "\n",
        "for class_label, folder_name in class_mapping.items():\n",
        "    path = os.path.join(train_path, folder_name)\n",
        "    if not os.path.exists(path):\n",
        "        print(f\"Class {class_label} directory not found: {path}\")\n",
        "        continue\n",
        "\n",
        "    print(f\"Processing {folder_name} (Class {class_label})...\")\n",
        "    images = os.listdir(path)\n",
        "    for image_name in images:\n",
        "        try:\n",
        "            image_path = os.path.join(path, image_name)\n",
        "            image = Image.open(image_path)\n",
        "            image = image.resize((30, 30))\n",
        "            image = np.array(image)\n",
        "            data.append(image)\n",
        "            labels.append(class_label)\n",
        "        except Exception as e:\n",
        "            print(f\"Error processing {image_name}: {e}\")\n",
        "\n",
        "print(f\"Processed {len(data)} images.\")"
      ]
    },
    {
      "cell_type": "code",
      "execution_count": 8,
      "metadata": {
        "id": "8sXU_5CUrlu8"
      },
      "outputs": [],
      "source": [
        "data = np.array(data)\n",
        "labels = np.array(labels)"
      ]
    },
    {
      "cell_type": "code",
      "execution_count": 9,
      "metadata": {
        "colab": {
          "base_uri": "https://localhost:8080/"
        },
        "id": "2m_-2vVKrqrB",
        "outputId": "ed1ffcc0-afc0-4e36-8513-2b2dded21679"
      },
      "outputs": [
        {
          "name": "stdout",
          "output_type": "stream",
          "text": [
            "(1098, 30, 30, 3) (1098,)\n"
          ]
        }
      ],
      "source": [
        "print(data.shape, labels.shape)"
      ]
    },
    {
      "cell_type": "code",
      "execution_count": 10,
      "metadata": {
        "id": "bHYckg0JrrU7"
      },
      "outputs": [],
      "source": [
        "X_train, X_test, y_train, y_test = train_test_split(data, labels, test_size=0.2, random_state=0)"
      ]
    },
    {
      "cell_type": "code",
      "execution_count": 11,
      "metadata": {
        "colab": {
          "base_uri": "https://localhost:8080/"
        },
        "id": "BtNmIISVrtRc",
        "outputId": "47e467b3-1319-4aaa-99ee-273ff376c67a"
      },
      "outputs": [
        {
          "name": "stdout",
          "output_type": "stream",
          "text": [
            "(878, 30, 30, 3) (220, 30, 30, 3) (878,) (220,)\n"
          ]
        }
      ],
      "source": [
        "print(X_train.shape, X_test.shape, y_train.shape, y_test.shape)"
      ]
    },
    {
      "cell_type": "code",
      "execution_count": 12,
      "metadata": {
        "colab": {
          "base_uri": "https://localhost:8080/",
          "height": 362
        },
        "id": "xEtKBWDFrvRy",
        "outputId": "6855b74a-6bf7-4736-f1b0-300126b39458"
      },
      "outputs": [
        {
          "data": {
            "text/plain": [
              "(-0.5, 29.5, 29.5, -0.5)"
            ]
          },
          "execution_count": 12,
          "metadata": {},
          "output_type": "execute_result"
        },
        {
          "data": {
            "image/png": "[encoded data removed]",
            "text/plain": [
              "<Figure size 400x400 with 1 Axes>"
            ]
          },
          "metadata": {},
          "output_type": "display_data"
        }
      ],
      "source": [
        "import matplotlib.pyplot as plt\n",
        "\n",
        "plt.figure(figsize=(4, 4))\n",
        "image = X_train[np.random.choice(range(X_train.shape[0]))]\n",
        "plt.imshow(image.astype(\"uint8\"))\n",
        "plt.axis(\"off\")"
      ]
    },
    {
      "cell_type": "code",
      "execution_count": 13,
      "metadata": {
        "id": "gkiOjcW2rxzS"
      },
      "outputs": [],
      "source": [
        "#from keras.utils import to_categorical\n",
        "from tensorflow.keras.utils import to_categorical"
      ]
    },
    {
      "cell_type": "code",
      "execution_count": 14,
      "metadata": {
        "id": "KJs3sKC-r0gc"
      },
      "outputs": [],
      "source": [
        "data_augmentation = keras.Sequential(\n",
        "    [\n",
        "        layers.Normalization(),\n",
        "        layers.Resizing(72, 72),\n",
        "        layers.RandomFlip(\"horizontal\"),\n",
        "        layers.RandomRotation(factor=0.02),\n",
        "        layers.RandomZoom(\n",
        "            height_factor=0.2, width_factor=0.2\n",
        "        ),\n",
        "    ],\n",
        "    name=\"data_augmentation\",\n",
        ")\n",
        "# Compute the mean and the variance of the training data for normalization.\n",
        "data_augmentation.layers[0].adapt(X_train)"
      ]
    },
    {
      "cell_type": "code",
      "execution_count": 15,
      "metadata": {
        "id": "q8_Mu1Syr36o"
      },
      "outputs": [],
      "source": [
        "\n",
        "def mlp(x, hidden_units, dropout_rate):\n",
        "    for units in hidden_units:\n",
        "        x = layers.Dense(units, activation=tf.nn.gelu)(x)\n",
        "        x = layers.Dropout(dropout_rate)(x)\n",
        "    return x\n"
      ]
    },
    {
      "cell_type": "code",
      "execution_count": 16,
      "metadata": {
        "id": "333iZvDer8O9"
      },
      "outputs": [],
      "source": [
        "learning_rate = 0.001\n",
        "weight_decay = 0.0001\n",
        "batch_size = 256\n",
        "num_epochs = 120\n",
        "image_size = 72  # We'll resize input images to this size\n",
        "patch_size = 6  # Size of the patches to be extract from the input images\n",
        "num_patches = (image_size // patch_size) ** 2\n",
        "projection_dim = 64\n",
        "num_heads = 8       #6,7,8,9,10,11,12\n",
        "transformer_units = [\n",
        "    projection_dim * 2,\n",
        "    projection_dim,\n",
        "]  # Size of the transformer layers\n",
        "transformer_layers = 8\n",
        "mlp_head_units = [2048, 1024]  # Size of the dense layers of the final classifier"
      ]
    },
    {
      "cell_type": "code",
      "execution_count": 17,
      "metadata": {
        "id": "JIvfds0Ir9uP"
      },
      "outputs": [],
      "source": [
        "class Patches(layers.Layer):\n",
        "    def __init__(self, patch_size):\n",
        "        super(Patches, self).__init__()\n",
        "        self.patch_size = patch_size\n",
        "\n",
        "    def call(self, images):\n",
        "        batch_size = tf.shape(images)[0]\n",
        "        patches = tf.image.extract_patches(\n",
        "            images=images,\n",
        "            sizes=[1, self.patch_size, self.patch_size, 1],\n",
        "            strides=[1, self.patch_size, self.patch_size, 1],\n",
        "            rates=[1, 1, 1, 1],\n",
        "            padding=\"VALID\",\n",
        "        )\n",
        "        patch_dims = patches.shape[-1]\n",
        "        patches = tf.reshape(patches, [batch_size, -1, patch_dims])\n",
        "        return patches\n"
      ]
    },
    {
      "cell_type": "code",
      "execution_count": 18,
      "metadata": {
        "colab": {
          "base_uri": "https://localhost:8080/",
          "height": 413
        },
        "id": "ZCXoJ62TsAek",
        "outputId": "fe332871-25ad-4408-9392-7fc70184f98d"
      },
      "outputs": [
        {
          "name": "stdout",
          "output_type": "stream",
          "text": [
            "Image size: 72 X 72\n",
            "Patch size: 6 X 6\n",
            "Patches per image: 144\n",
            "Elements per patch: 108\n"
          ]
        },
        {
          "data": {
            "image/png": "[encoded data removed]",
            "text/plain": [
              "<Figure size 400x400 with 144 Axes>"
            ]
          },
          "metadata": {},
          "output_type": "display_data"
        }
      ],
      "source": [
        "resized_image = tf.image.resize(\n",
        "    tf.convert_to_tensor([image]), size=(image_size, image_size)\n",
        ")\n",
        "patches = Patches(patch_size)(resized_image)\n",
        "print(f\"Image size: {image_size} X {image_size}\")\n",
        "print(f\"Patch size: {patch_size} X {patch_size}\")\n",
        "print(f\"Patches per image: {patches.shape[1]}\")\n",
        "print(f\"Elements per patch: {patches.shape[-1]}\")\n",
        "\n",
        "n = int(np.sqrt(patches.shape[1]))\n",
        "plt.figure(figsize=(4, 4))\n",
        "for i, patch in enumerate(patches[0]):\n",
        "    ax = plt.subplot(n, n, i + 1)\n",
        "    patch_img = tf.reshape(patch, (patch_size, patch_size, 3))\n",
        "    plt.imshow(patch_img.numpy().astype(\"uint8\"))\n",
        "    plt.axis(\"off\")"
      ]
    },
    {
      "cell_type": "code",
      "execution_count": 19,
      "metadata": {
        "id": "8ciitx99sC9r"
      },
      "outputs": [],
      "source": [
        "class PatchEncoder(layers.Layer):\n",
        "    def __init__(self, num_patches, projection_dim):\n",
        "        super(PatchEncoder, self).__init__()\n",
        "        self.num_patches = num_patches\n",
        "        self.projection = layers.Dense(units=projection_dim)\n",
        "        self.position_embedding = layers.Embedding(\n",
        "            input_dim=num_patches, output_dim=projection_dim\n",
        "        )\n",
        "\n",
        "    def call(self, patch):\n",
        "        positions = tf.range(start=0, limit=self.num_patches, delta=1)\n",
        "        encoded = self.projection(patch) + self.position_embedding(positions)\n",
        "        return encoded"
      ]
    },
    {
      "cell_type": "code",
      "execution_count": 20,
      "metadata": {
        "id": "6Z8CiNpYsGNu"
      },
      "outputs": [],
      "source": [
        "input_shape = (30, 30, 3)"
      ]
    },
    {
      "cell_type": "code",
      "execution_count": 21,
      "metadata": {
        "id": "W-j6wDl5sNG4"
      },
      "outputs": [],
      "source": [
        "def create_vit_classifier():\n",
        "    inputs = layers.Input(shape=input_shape)\n",
        "    # Augment data.\n",
        "    augmented = data_augmentation(inputs)\n",
        "    # Create patches.\n",
        "    patches = Patches(patch_size)(augmented)\n",
        "    # Encode patches.\n",
        "    encoded_patches = PatchEncoder(num_patches, projection_dim)(patches)\n",
        "\n",
        "    # Create multiple layers of the Transformer block.\n",
        "    for _ in range(transformer_layers):\n",
        "        # Layer normalization 1.\n",
        "        x1 = layers.LayerNormalization(epsilon=1e-6)(encoded_patches)\n",
        "        # Create a multi-head attention layer.\n",
        "        attention_output = layers.MultiHeadAttention(\n",
        "            num_heads=num_heads, key_dim=projection_dim, dropout=0.1\n",
        "        )(x1, x1)\n",
        "        # Skip connection 1.\n",
        "        x2 = layers.Add()([attention_output, encoded_patches])\n",
        "        # Layer normalization 2.\n",
        "        x3 = layers.LayerNormalization(epsilon=1e-6)(x2)\n",
        "        # MLP.\n",
        "        x3 = mlp(x3, hidden_units=transformer_units, dropout_rate=0.1)\n",
        "        # Skip connection 2.\n",
        "        encoded_patches = layers.Add()([x3, x2])\n",
        "\n",
        "    # Create a [batch_size, projection_dim] tensor.\n",
        "    representation = layers.LayerNormalization(epsilon=1e-6)(encoded_patches)\n",
        "    representation = layers.Flatten()(representation)\n",
        "    representation = layers.Dropout(0.5)(representation)\n",
        "    # Add MLP.\n",
        "    features = mlp(representation, hidden_units=mlp_head_units, dropout_rate=0.5)\n",
        "    # Classify outputs.\n",
        "    logits = layers.Dense(classes)(features)\n",
        "    # Create the Keras model.\n",
        "    model = keras.Model(inputs=inputs, outputs=logits)\n",
        "    return model\n",
        "\n",
        "# vit_classifier = create_vit_classifier()\n"
      ]
    },
    {
      "cell_type": "code",
      "execution_count": 22,
      "metadata": {
        "colab": {
          "base_uri": "https://localhost:8080/"
        },
        "id": "UCW8zOrRsOtc",
        "outputId": "3a933a88-2053-4e49-d984-89a1f570caeb"
      },
      "outputs": [
        {
          "name": "stdout",
          "output_type": "stream",
          "text": [
            "Epoch 1/120\n",
            "4/4 [==============================] - 214s 43s/step - loss: 11.8570 - accuracy: 0.4304 - top-5-accuracy: 1.0000 - val_loss: 4.0295 - val_accuracy: 0.4432 - val_top-5-accuracy: 1.0000\n",
            "Epoch 2/120\n",
            "4/4 [==============================] - 129s 25s/step - loss: 4.0776 - accuracy: 0.4177 - top-5-accuracy: 1.0000 - val_loss: 1.0209 - val_accuracy: 0.4432 - val_top-5-accuracy: 1.0000\n",
            "Epoch 3/120\n",
            "4/4 [==============================] - 126s 30s/step - loss: 1.7119 - accuracy: 0.5127 - top-5-accuracy: 1.0000 - val_loss: 1.4683 - val_accuracy: 0.4773 - val_top-5-accuracy: 1.0000\n",
            "Epoch 4/120\n",
            "4/4 [==============================] - 122s 29s/step - loss: 1.7898 - accuracy: 0.5519 - top-5-accuracy: 1.0000 - val_loss: 1.1239 - val_accuracy: 0.2841 - val_top-5-accuracy: 1.0000\n",
            "Epoch 5/120\n",
            "4/4 [==============================] - 132s 26s/step - loss: 1.4614 - accuracy: 0.4684 - top-5-accuracy: 1.0000 - val_loss: 0.8605 - val_accuracy: 0.6364 - val_top-5-accuracy: 1.0000\n",
            "Epoch 6/120\n",
            "4/4 [==============================] - 107s 24s/step - loss: 1.1689 - accuracy: 0.5367 - top-5-accuracy: 1.0000 - val_loss: 0.8357 - val_accuracy: 0.6023 - val_top-5-accuracy: 1.0000\n",
            "Epoch 7/120\n",
            "4/4 [==============================] - 108s 25s/step - loss: 1.0146 - accuracy: 0.5924 - top-5-accuracy: 1.0000 - val_loss: 0.8061 - val_accuracy: 0.6250 - val_top-5-accuracy: 1.0000\n",
            "Epoch 8/120\n",
            "4/4 [==============================] - 106s 24s/step - loss: 1.0030 - accuracy: 0.5949 - top-5-accuracy: 1.0000 - val_loss: 0.7807 - val_accuracy: 0.6136 - val_top-5-accuracy: 1.0000\n",
            "Epoch 9/120\n",
            "4/4 [==============================] - 106s 24s/step - loss: 1.0024 - accuracy: 0.6025 - top-5-accuracy: 1.0000 - val_loss: 0.7697 - val_accuracy: 0.6705 - val_top-5-accuracy: 1.0000\n",
            "Epoch 10/120\n",
            "4/4 [==============================] - 120s 27s/step - loss: 0.9164 - accuracy: 0.6101 - top-5-accuracy: 1.0000 - val_loss: 0.8008 - val_accuracy: 0.6023 - val_top-5-accuracy: 1.0000\n",
            "Epoch 11/120\n",
            "4/4 [==============================] - 110s 25s/step - loss: 0.8839 - accuracy: 0.6430 - top-5-accuracy: 1.0000 - val_loss: 0.8627 - val_accuracy: 0.5795 - val_top-5-accuracy: 1.0000\n",
            "Epoch 12/120\n",
            "4/4 [==============================] - 110s 25s/step - loss: 0.9281 - accuracy: 0.6025 - top-5-accuracy: 1.0000 - val_loss: 0.7556 - val_accuracy: 0.6136 - val_top-5-accuracy: 1.0000\n",
            "Epoch 13/120\n",
            "4/4 [==============================] - 105s 24s/step - loss: 0.9107 - accuracy: 0.6165 - top-5-accuracy: 1.0000 - val_loss: 0.7897 - val_accuracy: 0.7045 - val_top-5-accuracy: 1.0000\n",
            "Epoch 14/120\n",
            "4/4 [==============================] - 116s 27s/step - loss: 0.8985 - accuracy: 0.6418 - top-5-accuracy: 1.0000 - val_loss: 0.8042 - val_accuracy: 0.6932 - val_top-5-accuracy: 1.0000\n",
            "Epoch 15/120\n",
            "4/4 [==============================] - 118s 28s/step - loss: 0.8320 - accuracy: 0.6380 - top-5-accuracy: 1.0000 - val_loss: 0.7665 - val_accuracy: 0.7386 - val_top-5-accuracy: 1.0000\n",
            "Epoch 16/120\n",
            "4/4 [==============================] - 119s 27s/step - loss: 0.8853 - accuracy: 0.6468 - top-5-accuracy: 1.0000 - val_loss: 0.7154 - val_accuracy: 0.7273 - val_top-5-accuracy: 1.0000\n",
            "Epoch 17/120\n",
            "4/4 [==============================] - 113s 26s/step - loss: 0.8369 - accuracy: 0.6658 - top-5-accuracy: 1.0000 - val_loss: 0.7863 - val_accuracy: 0.7500 - val_top-5-accuracy: 1.0000\n",
            "Epoch 18/120\n",
            "4/4 [==============================] - 112s 26s/step - loss: 0.8230 - accuracy: 0.6405 - top-5-accuracy: 1.0000 - val_loss: 0.7704 - val_accuracy: 0.7614 - val_top-5-accuracy: 1.0000\n",
            "Epoch 19/120\n",
            "4/4 [==============================] - 111s 25s/step - loss: 0.8669 - accuracy: 0.6380 - top-5-accuracy: 1.0000 - val_loss: 0.7301 - val_accuracy: 0.7500 - val_top-5-accuracy: 1.0000\n",
            "Epoch 20/120\n",
            "4/4 [==============================] - 103s 24s/step - loss: 0.8399 - accuracy: 0.6582 - top-5-accuracy: 1.0000 - val_loss: 0.6913 - val_accuracy: 0.7500 - val_top-5-accuracy: 1.0000\n",
            "Epoch 21/120\n",
            "4/4 [==============================] - 120s 29s/step - loss: 0.7652 - accuracy: 0.6696 - top-5-accuracy: 1.0000 - val_loss: 0.6997 - val_accuracy: 0.7500 - val_top-5-accuracy: 1.0000\n",
            "Epoch 22/120\n",
            "4/4 [==============================] - 112s 26s/step - loss: 0.8126 - accuracy: 0.6519 - top-5-accuracy: 1.0000 - val_loss: 0.6902 - val_accuracy: 0.7045 - val_top-5-accuracy: 1.0000\n",
            "Epoch 23/120\n",
            "4/4 [==============================] - 112s 26s/step - loss: 0.8208 - accuracy: 0.6696 - top-5-accuracy: 1.0000 - val_loss: 0.6453 - val_accuracy: 0.7386 - val_top-5-accuracy: 1.0000\n",
            "Epoch 24/120\n",
            "4/4 [==============================] - 108s 25s/step - loss: 0.7910 - accuracy: 0.6886 - top-5-accuracy: 1.0000 - val_loss: 0.6342 - val_accuracy: 0.7500 - val_top-5-accuracy: 1.0000\n",
            "Epoch 25/120\n",
            "4/4 [==============================] - 109s 25s/step - loss: 0.7514 - accuracy: 0.6886 - top-5-accuracy: 1.0000 - val_loss: 0.6457 - val_accuracy: 0.7614 - val_top-5-accuracy: 1.0000\n",
            "Epoch 26/120\n",
            "4/4 [==============================] - 120s 28s/step - loss: 0.7430 - accuracy: 0.6975 - top-5-accuracy: 1.0000 - val_loss: 0.6395 - val_accuracy: 0.7386 - val_top-5-accuracy: 1.0000\n",
            "Epoch 27/120\n",
            "4/4 [==============================] - 107s 24s/step - loss: 0.7509 - accuracy: 0.6937 - top-5-accuracy: 1.0000 - val_loss: 0.6509 - val_accuracy: 0.7500 - val_top-5-accuracy: 1.0000\n",
            "Epoch 28/120\n",
            "4/4 [==============================] - 111s 26s/step - loss: 0.7570 - accuracy: 0.6848 - top-5-accuracy: 1.0000 - val_loss: 0.6465 - val_accuracy: 0.7727 - val_top-5-accuracy: 1.0000\n",
            "Epoch 29/120\n",
            "4/4 [==============================] - 103s 23s/step - loss: 0.7539 - accuracy: 0.6873 - top-5-accuracy: 1.0000 - val_loss: 0.6361 - val_accuracy: 0.7727 - val_top-5-accuracy: 1.0000\n",
            "Epoch 30/120\n",
            "4/4 [==============================] - 119s 26s/step - loss: 0.7235 - accuracy: 0.7253 - top-5-accuracy: 1.0000 - val_loss: 0.6169 - val_accuracy: 0.7500 - val_top-5-accuracy: 1.0000\n",
            "Epoch 31/120\n",
            "4/4 [==============================] - 114s 26s/step - loss: 0.7342 - accuracy: 0.6937 - top-5-accuracy: 1.0000 - val_loss: 0.5994 - val_accuracy: 0.7386 - val_top-5-accuracy: 1.0000\n",
            "Epoch 32/120\n",
            "4/4 [==============================] - 126s 28s/step - loss: 0.7426 - accuracy: 0.6810 - top-5-accuracy: 1.0000 - val_loss: 0.6104 - val_accuracy: 0.7955 - val_top-5-accuracy: 1.0000\n",
            "Epoch 33/120\n",
            "4/4 [==============================] - 115s 26s/step - loss: 0.7649 - accuracy: 0.6937 - top-5-accuracy: 1.0000 - val_loss: 0.5856 - val_accuracy: 0.7841 - val_top-5-accuracy: 1.0000\n",
            "Epoch 34/120\n",
            "4/4 [==============================] - 111s 26s/step - loss: 0.6910 - accuracy: 0.7101 - top-5-accuracy: 1.0000 - val_loss: 0.5966 - val_accuracy: 0.8068 - val_top-5-accuracy: 1.0000\n",
            "Epoch 35/120\n",
            "4/4 [==============================] - 115s 27s/step - loss: 0.6732 - accuracy: 0.7253 - top-5-accuracy: 1.0000 - val_loss: 0.6009 - val_accuracy: 0.8068 - val_top-5-accuracy: 1.0000\n",
            "Epoch 36/120\n",
            "4/4 [==============================] - 112s 25s/step - loss: 0.7212 - accuracy: 0.6949 - top-5-accuracy: 1.0000 - val_loss: 0.5811 - val_accuracy: 0.7614 - val_top-5-accuracy: 1.0000\n",
            "Epoch 37/120\n",
            "4/4 [==============================] - 120s 29s/step - loss: 0.7177 - accuracy: 0.7152 - top-5-accuracy: 1.0000 - val_loss: 0.5496 - val_accuracy: 0.7727 - val_top-5-accuracy: 1.0000\n",
            "Epoch 38/120\n",
            "4/4 [==============================] - 110s 25s/step - loss: 0.6704 - accuracy: 0.7190 - top-5-accuracy: 1.0000 - val_loss: 0.5410 - val_accuracy: 0.8409 - val_top-5-accuracy: 1.0000\n",
            "Epoch 39/120\n",
            "4/4 [==============================] - 109s 25s/step - loss: 0.6788 - accuracy: 0.7228 - top-5-accuracy: 1.0000 - val_loss: 0.5700 - val_accuracy: 0.7500 - val_top-5-accuracy: 1.0000\n",
            "Epoch 40/120\n",
            "4/4 [==============================] - 112s 25s/step - loss: 0.6771 - accuracy: 0.7241 - top-5-accuracy: 1.0000 - val_loss: 0.5957 - val_accuracy: 0.7727 - val_top-5-accuracy: 1.0000\n",
            "Epoch 41/120\n",
            "4/4 [==============================] - 110s 25s/step - loss: 0.6881 - accuracy: 0.6962 - top-5-accuracy: 1.0000 - val_loss: 0.5888 - val_accuracy: 0.7841 - val_top-5-accuracy: 1.0000\n",
            "Epoch 42/120\n",
            "4/4 [==============================] - 119s 28s/step - loss: 0.6932 - accuracy: 0.7316 - top-5-accuracy: 1.0000 - val_loss: 0.5886 - val_accuracy: 0.7841 - val_top-5-accuracy: 1.0000\n",
            "Epoch 43/120\n",
            "4/4 [==============================] - 114s 26s/step - loss: 0.6967 - accuracy: 0.7051 - top-5-accuracy: 1.0000 - val_loss: 0.6035 - val_accuracy: 0.7727 - val_top-5-accuracy: 1.0000\n",
            "Epoch 44/120\n",
            "4/4 [==============================] - 111s 25s/step - loss: 0.6439 - accuracy: 0.7228 - top-5-accuracy: 1.0000 - val_loss: 0.5498 - val_accuracy: 0.8182 - val_top-5-accuracy: 1.0000\n",
            "Epoch 45/120\n",
            "4/4 [==============================] - 107s 25s/step - loss: 0.6527 - accuracy: 0.7430 - top-5-accuracy: 1.0000 - val_loss: 0.5798 - val_accuracy: 0.7614 - val_top-5-accuracy: 1.0000\n",
            "Epoch 46/120\n",
            "4/4 [==============================] - 104s 23s/step - loss: 0.6689 - accuracy: 0.7203 - top-5-accuracy: 1.0000 - val_loss: 0.5974 - val_accuracy: 0.7614 - val_top-5-accuracy: 1.0000\n",
            "Epoch 47/120\n",
            "4/4 [==============================] - 117s 27s/step - loss: 0.6648 - accuracy: 0.7329 - top-5-accuracy: 1.0000 - val_loss: 0.5680 - val_accuracy: 0.8182 - val_top-5-accuracy: 1.0000\n",
            "Epoch 48/120\n",
            "4/4 [==============================] - 114s 26s/step - loss: 0.6794 - accuracy: 0.7329 - top-5-accuracy: 1.0000 - val_loss: 0.5280 - val_accuracy: 0.7727 - val_top-5-accuracy: 1.0000\n",
            "Epoch 49/120\n",
            "4/4 [==============================] - 119s 27s/step - loss: 0.6241 - accuracy: 0.7481 - top-5-accuracy: 1.0000 - val_loss: 0.5157 - val_accuracy: 0.7955 - val_top-5-accuracy: 1.0000\n",
            "Epoch 50/120\n",
            "4/4 [==============================] - 111s 25s/step - loss: 0.6169 - accuracy: 0.7494 - top-5-accuracy: 1.0000 - val_loss: 0.4697 - val_accuracy: 0.7955 - val_top-5-accuracy: 1.0000\n",
            "Epoch 51/120\n",
            "4/4 [==============================] - 111s 26s/step - loss: 0.6047 - accuracy: 0.7684 - top-5-accuracy: 1.0000 - val_loss: 0.4637 - val_accuracy: 0.7841 - val_top-5-accuracy: 1.0000\n",
            "Epoch 52/120\n",
            "4/4 [==============================] - 111s 25s/step - loss: 0.6404 - accuracy: 0.7291 - top-5-accuracy: 1.0000 - val_loss: 0.4726 - val_accuracy: 0.8295 - val_top-5-accuracy: 1.0000\n",
            "Epoch 53/120\n",
            "4/4 [==============================] - 115s 27s/step - loss: 0.6189 - accuracy: 0.7658 - top-5-accuracy: 1.0000 - val_loss: 0.5290 - val_accuracy: 0.7841 - val_top-5-accuracy: 1.0000\n",
            "Epoch 54/120\n",
            "4/4 [==============================] - 115s 26s/step - loss: 0.6568 - accuracy: 0.7367 - top-5-accuracy: 1.0000 - val_loss: 0.5187 - val_accuracy: 0.7727 - val_top-5-accuracy: 1.0000\n",
            "Epoch 55/120\n",
            "4/4 [==============================] - 107s 25s/step - loss: 0.6443 - accuracy: 0.7418 - top-5-accuracy: 1.0000 - val_loss: 0.5336 - val_accuracy: 0.7727 - val_top-5-accuracy: 1.0000\n",
            "Epoch 56/120\n",
            "4/4 [==============================] - 108s 25s/step - loss: 0.6188 - accuracy: 0.7519 - top-5-accuracy: 1.0000 - val_loss: 0.4753 - val_accuracy: 0.8523 - val_top-5-accuracy: 1.0000\n",
            "Epoch 57/120\n",
            "4/4 [==============================] - 113s 25s/step - loss: 0.5744 - accuracy: 0.7620 - top-5-accuracy: 1.0000 - val_loss: 0.4569 - val_accuracy: 0.8295 - val_top-5-accuracy: 1.0000\n",
            "Epoch 58/120\n",
            "4/4 [==============================] - 110s 25s/step - loss: 0.5956 - accuracy: 0.7595 - top-5-accuracy: 1.0000 - val_loss: 0.4486 - val_accuracy: 0.8523 - val_top-5-accuracy: 1.0000\n",
            "Epoch 59/120\n",
            "4/4 [==============================] - 122s 27s/step - loss: 0.5501 - accuracy: 0.7785 - top-5-accuracy: 1.0000 - val_loss: 0.4372 - val_accuracy: 0.8750 - val_top-5-accuracy: 1.0000\n",
            "Epoch 60/120\n",
            "4/4 [==============================] - 107s 24s/step - loss: 0.5798 - accuracy: 0.7696 - top-5-accuracy: 1.0000 - val_loss: 0.4245 - val_accuracy: 0.8409 - val_top-5-accuracy: 1.0000\n",
            "Epoch 61/120\n",
            "4/4 [==============================] - 116s 27s/step - loss: 0.5748 - accuracy: 0.7709 - top-5-accuracy: 1.0000 - val_loss: 0.4570 - val_accuracy: 0.8295 - val_top-5-accuracy: 1.0000\n",
            "Epoch 62/120\n",
            "4/4 [==============================] - 112s 26s/step - loss: 0.6271 - accuracy: 0.7468 - top-5-accuracy: 1.0000 - val_loss: 0.4533 - val_accuracy: 0.8523 - val_top-5-accuracy: 1.0000\n",
            "Epoch 63/120\n",
            "4/4 [==============================] - 110s 25s/step - loss: 0.5801 - accuracy: 0.7696 - top-5-accuracy: 1.0000 - val_loss: 0.4493 - val_accuracy: 0.8068 - val_top-5-accuracy: 1.0000\n",
            "Epoch 64/120\n",
            "4/4 [==============================] - 116s 27s/step - loss: 0.5509 - accuracy: 0.7506 - top-5-accuracy: 1.0000 - val_loss: 0.4599 - val_accuracy: 0.7955 - val_top-5-accuracy: 1.0000\n",
            "Epoch 65/120\n",
            "4/4 [==============================] - 112s 26s/step - loss: 0.5776 - accuracy: 0.7582 - top-5-accuracy: 1.0000 - val_loss: 0.4918 - val_accuracy: 0.7841 - val_top-5-accuracy: 1.0000\n",
            "Epoch 66/120\n",
            "4/4 [==============================] - 116s 27s/step - loss: 0.6391 - accuracy: 0.7481 - top-5-accuracy: 1.0000 - val_loss: 0.4764 - val_accuracy: 0.8409 - val_top-5-accuracy: 1.0000\n",
            "Epoch 67/120\n",
            "4/4 [==============================] - 109s 25s/step - loss: 0.6329 - accuracy: 0.7494 - top-5-accuracy: 1.0000 - val_loss: 0.4884 - val_accuracy: 0.8636 - val_top-5-accuracy: 1.0000\n",
            "Epoch 68/120\n",
            "4/4 [==============================] - 111s 25s/step - loss: 0.5652 - accuracy: 0.7734 - top-5-accuracy: 1.0000 - val_loss: 0.5197 - val_accuracy: 0.8409 - val_top-5-accuracy: 1.0000\n",
            "Epoch 69/120\n",
            "4/4 [==============================] - 112s 26s/step - loss: 0.5630 - accuracy: 0.7646 - top-5-accuracy: 1.0000 - val_loss: 0.4981 - val_accuracy: 0.8864 - val_top-5-accuracy: 1.0000\n",
            "Epoch 70/120\n",
            "4/4 [==============================] - 119s 26s/step - loss: 0.5368 - accuracy: 0.7747 - top-5-accuracy: 1.0000 - val_loss: 0.5039 - val_accuracy: 0.8068 - val_top-5-accuracy: 1.0000\n",
            "Epoch 71/120\n",
            "4/4 [==============================] - 109s 25s/step - loss: 0.5171 - accuracy: 0.7924 - top-5-accuracy: 1.0000 - val_loss: 0.4537 - val_accuracy: 0.8068 - val_top-5-accuracy: 1.0000\n",
            "Epoch 72/120\n",
            "4/4 [==============================] - 111s 26s/step - loss: 0.5100 - accuracy: 0.7873 - top-5-accuracy: 1.0000 - val_loss: 0.4246 - val_accuracy: 0.8523 - val_top-5-accuracy: 1.0000\n",
            "Epoch 73/120\n",
            "4/4 [==============================] - 111s 26s/step - loss: 0.4814 - accuracy: 0.7924 - top-5-accuracy: 1.0000 - val_loss: 0.4101 - val_accuracy: 0.8295 - val_top-5-accuracy: 1.0000\n",
            "Epoch 74/120\n",
            "4/4 [==============================] - 110s 25s/step - loss: 0.4823 - accuracy: 0.8127 - top-5-accuracy: 1.0000 - val_loss: 0.3941 - val_accuracy: 0.8409 - val_top-5-accuracy: 1.0000\n",
            "Epoch 75/120\n",
            "4/4 [==============================] - 116s 28s/step - loss: 0.5262 - accuracy: 0.7823 - top-5-accuracy: 1.0000 - val_loss: 0.4226 - val_accuracy: 0.8295 - val_top-5-accuracy: 1.0000\n",
            "Epoch 76/120\n",
            "4/4 [==============================] - 109s 25s/step - loss: 0.5197 - accuracy: 0.7937 - top-5-accuracy: 1.0000 - val_loss: 0.4571 - val_accuracy: 0.7955 - val_top-5-accuracy: 1.0000\n",
            "Epoch 77/120\n",
            "4/4 [==============================] - 110s 25s/step - loss: 0.6127 - accuracy: 0.7608 - top-5-accuracy: 1.0000 - val_loss: 0.4643 - val_accuracy: 0.8182 - val_top-5-accuracy: 1.0000\n",
            "Epoch 78/120\n",
            "4/4 [==============================] - 109s 25s/step - loss: 0.6181 - accuracy: 0.7608 - top-5-accuracy: 1.0000 - val_loss: 0.4401 - val_accuracy: 0.8409 - val_top-5-accuracy: 1.0000\n",
            "Epoch 79/120\n",
            "4/4 [==============================] - 113s 26s/step - loss: 0.5067 - accuracy: 0.8038 - top-5-accuracy: 1.0000 - val_loss: 0.4499 - val_accuracy: 0.8409 - val_top-5-accuracy: 1.0000\n",
            "Epoch 80/120\n",
            "4/4 [==============================] - 111s 26s/step - loss: 0.5402 - accuracy: 0.7810 - top-5-accuracy: 1.0000 - val_loss: 0.4047 - val_accuracy: 0.8409 - val_top-5-accuracy: 1.0000\n",
            "Epoch 81/120\n",
            "4/4 [==============================] - 119s 26s/step - loss: 0.5484 - accuracy: 0.7608 - top-5-accuracy: 1.0000 - val_loss: 0.4304 - val_accuracy: 0.8864 - val_top-5-accuracy: 1.0000\n",
            "Epoch 82/120\n",
            "4/4 [==============================] - 109s 25s/step - loss: 0.5181 - accuracy: 0.8038 - top-5-accuracy: 1.0000 - val_loss: 0.4346 - val_accuracy: 0.8750 - val_top-5-accuracy: 1.0000\n",
            "Epoch 83/120\n",
            "4/4 [==============================] - 111s 26s/step - loss: 0.4687 - accuracy: 0.8000 - top-5-accuracy: 1.0000 - val_loss: 0.3919 - val_accuracy: 0.8295 - val_top-5-accuracy: 1.0000\n",
            "Epoch 84/120\n",
            "4/4 [==============================] - 107s 24s/step - loss: 0.5124 - accuracy: 0.8013 - top-5-accuracy: 1.0000 - val_loss: 0.4192 - val_accuracy: 0.8182 - val_top-5-accuracy: 1.0000\n",
            "Epoch 85/120\n",
            "4/4 [==============================] - 111s 25s/step - loss: 0.5442 - accuracy: 0.7937 - top-5-accuracy: 1.0000 - val_loss: 0.4091 - val_accuracy: 0.8636 - val_top-5-accuracy: 1.0000\n",
            "Epoch 86/120\n",
            "4/4 [==============================] - 122s 28s/step - loss: 0.5141 - accuracy: 0.8076 - top-5-accuracy: 1.0000 - val_loss: 0.3965 - val_accuracy: 0.8977 - val_top-5-accuracy: 1.0000\n",
            "Epoch 87/120\n",
            "4/4 [==============================] - 107s 24s/step - loss: 0.4741 - accuracy: 0.8190 - top-5-accuracy: 1.0000 - val_loss: 0.4527 - val_accuracy: 0.8295 - val_top-5-accuracy: 1.0000\n",
            "Epoch 88/120\n",
            "4/4 [==============================] - 110s 25s/step - loss: 0.5554 - accuracy: 0.7772 - top-5-accuracy: 1.0000 - val_loss: 0.4398 - val_accuracy: 0.8295 - val_top-5-accuracy: 1.0000\n",
            "Epoch 89/120\n",
            "4/4 [==============================] - 112s 26s/step - loss: 0.5274 - accuracy: 0.7823 - top-5-accuracy: 1.0000 - val_loss: 0.4062 - val_accuracy: 0.8409 - val_top-5-accuracy: 1.0000\n",
            "Epoch 90/120\n",
            "4/4 [==============================] - 109s 25s/step - loss: 0.5061 - accuracy: 0.8000 - top-5-accuracy: 1.0000 - val_loss: 0.3718 - val_accuracy: 0.8523 - val_top-5-accuracy: 1.0000\n",
            "Epoch 91/120\n",
            "4/4 [==============================] - 119s 27s/step - loss: 0.4853 - accuracy: 0.7937 - top-5-accuracy: 1.0000 - val_loss: 0.3434 - val_accuracy: 0.8864 - val_top-5-accuracy: 1.0000\n",
            "Epoch 92/120\n",
            "4/4 [==============================] - 115s 26s/step - loss: 0.4605 - accuracy: 0.8203 - top-5-accuracy: 1.0000 - val_loss: 0.3717 - val_accuracy: 0.8750 - val_top-5-accuracy: 1.0000\n",
            "Epoch 93/120\n",
            "4/4 [==============================] - 113s 25s/step - loss: 0.4597 - accuracy: 0.8215 - top-5-accuracy: 1.0000 - val_loss: 0.3594 - val_accuracy: 0.8864 - val_top-5-accuracy: 1.0000\n",
            "Epoch 94/120\n",
            "4/4 [==============================] - 110s 25s/step - loss: 0.4534 - accuracy: 0.8101 - top-5-accuracy: 1.0000 - val_loss: 0.3939 - val_accuracy: 0.8977 - val_top-5-accuracy: 1.0000\n",
            "Epoch 95/120\n",
            "4/4 [==============================] - 115s 27s/step - loss: 0.5019 - accuracy: 0.8139 - top-5-accuracy: 1.0000 - val_loss: 0.4110 - val_accuracy: 0.8750 - val_top-5-accuracy: 1.0000\n",
            "Epoch 96/120\n",
            "4/4 [==============================] - 108s 24s/step - loss: 0.4706 - accuracy: 0.7924 - top-5-accuracy: 1.0000 - val_loss: 0.4082 - val_accuracy: 0.8977 - val_top-5-accuracy: 1.0000\n",
            "Epoch 97/120\n",
            "4/4 [==============================] - 119s 26s/step - loss: 0.4571 - accuracy: 0.8051 - top-5-accuracy: 1.0000 - val_loss: 0.3617 - val_accuracy: 0.8523 - val_top-5-accuracy: 1.0000\n",
            "Epoch 98/120\n",
            "4/4 [==============================] - 113s 26s/step - loss: 0.4721 - accuracy: 0.8165 - top-5-accuracy: 1.0000 - val_loss: 0.3814 - val_accuracy: 0.8750 - val_top-5-accuracy: 1.0000\n",
            "Epoch 99/120\n",
            "4/4 [==============================] - 109s 25s/step - loss: 0.4518 - accuracy: 0.8253 - top-5-accuracy: 1.0000 - val_loss: 0.3945 - val_accuracy: 0.8295 - val_top-5-accuracy: 1.0000\n",
            "Epoch 100/120\n",
            "4/4 [==============================] - 112s 26s/step - loss: 0.4900 - accuracy: 0.8051 - top-5-accuracy: 1.0000 - val_loss: 0.3573 - val_accuracy: 0.8636 - val_top-5-accuracy: 1.0000\n",
            "Epoch 101/120\n",
            "4/4 [==============================] - 112s 26s/step - loss: 0.4353 - accuracy: 0.8278 - top-5-accuracy: 1.0000 - val_loss: 0.4686 - val_accuracy: 0.7614 - val_top-5-accuracy: 1.0000\n",
            "Epoch 102/120\n",
            "4/4 [==============================] - 117s 27s/step - loss: 0.5494 - accuracy: 0.7797 - top-5-accuracy: 1.0000 - val_loss: 0.3979 - val_accuracy: 0.8977 - val_top-5-accuracy: 1.0000\n",
            "Epoch 103/120\n",
            "4/4 [==============================] - 115s 26s/step - loss: 0.5213 - accuracy: 0.8025 - top-5-accuracy: 1.0000 - val_loss: 0.3756 - val_accuracy: 0.8295 - val_top-5-accuracy: 1.0000\n",
            "Epoch 104/120\n",
            "4/4 [==============================] - 109s 25s/step - loss: 0.4917 - accuracy: 0.8114 - top-5-accuracy: 1.0000 - val_loss: 0.3758 - val_accuracy: 0.8409 - val_top-5-accuracy: 1.0000\n",
            "Epoch 105/120\n",
            "4/4 [==============================] - 115s 27s/step - loss: 0.4307 - accuracy: 0.8443 - top-5-accuracy: 1.0000 - val_loss: 0.3900 - val_accuracy: 0.8523 - val_top-5-accuracy: 1.0000\n",
            "Epoch 106/120\n",
            "4/4 [==============================] - 111s 26s/step - loss: 0.4297 - accuracy: 0.8190 - top-5-accuracy: 1.0000 - val_loss: 0.3586 - val_accuracy: 0.9091 - val_top-5-accuracy: 1.0000\n",
            "Epoch 107/120\n",
            "4/4 [==============================] - 107s 24s/step - loss: 0.4286 - accuracy: 0.8228 - top-5-accuracy: 1.0000 - val_loss: 0.3720 - val_accuracy: 0.9091 - val_top-5-accuracy: 1.0000\n",
            "Epoch 108/120\n",
            "4/4 [==============================] - 118s 25s/step - loss: 0.4127 - accuracy: 0.8405 - top-5-accuracy: 1.0000 - val_loss: 0.3496 - val_accuracy: 0.9091 - val_top-5-accuracy: 1.0000\n",
            "Epoch 109/120\n",
            "4/4 [==============================] - 109s 25s/step - loss: 0.4143 - accuracy: 0.8266 - top-5-accuracy: 1.0000 - val_loss: 0.3211 - val_accuracy: 0.8864 - val_top-5-accuracy: 1.0000\n",
            "Epoch 110/120\n",
            "4/4 [==============================] - 111s 26s/step - loss: 0.3971 - accuracy: 0.8532 - top-5-accuracy: 1.0000 - val_loss: 0.3209 - val_accuracy: 0.8864 - val_top-5-accuracy: 1.0000\n",
            "Epoch 111/120\n",
            "4/4 [==============================] - 110s 25s/step - loss: 0.4414 - accuracy: 0.8278 - top-5-accuracy: 1.0000 - val_loss: 0.3163 - val_accuracy: 0.8750 - val_top-5-accuracy: 1.0000\n",
            "Epoch 112/120\n",
            "4/4 [==============================] - 110s 25s/step - loss: 0.4238 - accuracy: 0.8354 - top-5-accuracy: 1.0000 - val_loss: 0.3386 - val_accuracy: 0.8977 - val_top-5-accuracy: 1.0000\n",
            "Epoch 113/120\n",
            "4/4 [==============================] - 120s 28s/step - loss: 0.3921 - accuracy: 0.8418 - top-5-accuracy: 1.0000 - val_loss: 0.3737 - val_accuracy: 0.8864 - val_top-5-accuracy: 1.0000\n",
            "Epoch 114/120\n",
            "4/4 [==============================] - 110s 25s/step - loss: 0.4327 - accuracy: 0.8266 - top-5-accuracy: 1.0000 - val_loss: 0.3581 - val_accuracy: 0.8523 - val_top-5-accuracy: 1.0000\n",
            "Epoch 115/120\n",
            "4/4 [==============================] - 110s 25s/step - loss: 0.4576 - accuracy: 0.8114 - top-5-accuracy: 1.0000 - val_loss: 0.3921 - val_accuracy: 0.8864 - val_top-5-accuracy: 1.0000\n",
            "Epoch 116/120\n",
            "4/4 [==============================] - 114s 26s/step - loss: 0.4646 - accuracy: 0.8139 - top-5-accuracy: 1.0000 - val_loss: 0.3542 - val_accuracy: 0.8750 - val_top-5-accuracy: 1.0000\n",
            "Epoch 117/120\n",
            "4/4 [==============================] - 109s 25s/step - loss: 0.4523 - accuracy: 0.8190 - top-5-accuracy: 1.0000 - val_loss: 0.3502 - val_accuracy: 0.8864 - val_top-5-accuracy: 1.0000\n",
            "Epoch 118/120\n",
            "4/4 [==============================] - 118s 27s/step - loss: 0.4319 - accuracy: 0.8165 - top-5-accuracy: 1.0000 - val_loss: 0.3377 - val_accuracy: 0.8636 - val_top-5-accuracy: 1.0000\n",
            "Epoch 119/120\n",
            "4/4 [==============================] - 113s 26s/step - loss: 0.4193 - accuracy: 0.8241 - top-5-accuracy: 1.0000 - val_loss: 0.3064 - val_accuracy: 0.9091 - val_top-5-accuracy: 1.0000\n",
            "Epoch 120/120\n",
            "4/4 [==============================] - 111s 26s/step - loss: 0.3769 - accuracy: 0.8658 - top-5-accuracy: 1.0000 - val_loss: 0.3307 - val_accuracy: 0.8977 - val_top-5-accuracy: 1.0000\n",
            "7/7 [==============================] - 6s 889ms/step - loss: 0.3250 - accuracy: 0.8909 - top-5-accuracy: 1.0000\n",
            "Test accuracy: 89.09%\n",
            "Test top 5 accuracy: 100.0%\n"
          ]
        }
      ],
      "source": [
        "def run_experiment(model):\n",
        "    optimizer = tfa.optimizers.AdamW(\n",
        "        learning_rate=learning_rate, weight_decay=weight_decay\n",
        "    )\n",
        "\n",
        "    model.compile(\n",
        "        optimizer=optimizer,\n",
        "        loss=keras.losses.SparseCategoricalCrossentropy(from_logits=True),\n",
        "        metrics=[\n",
        "            keras.metrics.SparseCategoricalAccuracy(name=\"accuracy\"),\n",
        "            keras.metrics.SparseTopKCategoricalAccuracy(5, name=\"top-5-accuracy\"),\n",
        "        ],\n",
        "    )\n",
        "\n",
        "    checkpoint_filepath = \"/tmp/checkpoint\"\n",
        "    checkpoint_callback = keras.callbacks.ModelCheckpoint(\n",
        "        checkpoint_filepath,\n",
        "        monitor=\"val_accuracy\",\n",
        "        save_best_only=True,\n",
        "        save_weights_only=True,\n",
        "    )\n",
        "\n",
        "    history = model.fit(\n",
        "        x=X_train,\n",
        "        y=y_train,\n",
        "        batch_size=batch_size,\n",
        "        epochs=num_epochs,\n",
        "        validation_split=0.1,\n",
        "        callbacks=[checkpoint_callback],\n",
        "    )\n",
        "\n",
        "    model.load_weights(checkpoint_filepath)\n",
        "    _, accuracy, top_5_accuracy = model.evaluate(X_test, y_test)\n",
        "    print(f\"Test accuracy: {round(accuracy * 100, 2)}%\")\n",
        "    print(f\"Test top 5 accuracy: {round(top_5_accuracy * 100, 2)}%\")\n",
        "\n",
        "    return history\n",
        "\n",
        "\n",
        "vit_classifier = create_vit_classifier()\n",
        "history = run_experiment(vit_classifier)"
      ]
    },
    {
      "cell_type": "code",
      "execution_count": 23,
      "metadata": {
        "colab": {
          "base_uri": "https://localhost:8080/"
        },
        "id": "MQZfZYIGJFsv",
        "outputId": "e7e4792d-5c2e-41de-b5d4-52121f97d0c8"
      },
      "outputs": [
        {
          "name": "stdout",
          "output_type": "stream",
          "text": [
            "[0.4303797483444214, 0.4177215099334717, 0.5126582384109497, 0.551898717880249, 0.4683544337749481, 0.5367088317871094, 0.5924050807952881, 0.594936728477478, 0.6025316715240479, 0.6101265549659729, 0.6430379748344421, 0.6025316715240479, 0.6164556741714478, 0.6417721509933472, 0.6379746794700623, 0.646835446357727, 0.6658228039741516, 0.6405063271522522, 0.6379746794700623, 0.6582278609275818, 0.6696202754974365, 0.6518987417221069, 0.6696202754974365, 0.6886075735092163, 0.6886075735092163, 0.6974683403968811, 0.6936708688735962, 0.6848101019859314, 0.6873417496681213, 0.7253164649009705, 0.6936708688735962, 0.6810126304626465, 0.6936708688735962, 0.7101265788078308, 0.7253164649009705, 0.6949366927146912, 0.7151898741722107, 0.7189873456954956, 0.7227848172187805, 0.7240506410598755, 0.6962025165557861, 0.7316455841064453, 0.7050632834434509, 0.7227848172187805, 0.7430379986763, 0.7202531695365906, 0.7329114079475403, 0.7329114079475403, 0.7481012940406799, 0.7493671178817749, 0.7683544158935547, 0.7291139364242554, 0.7658227682113647, 0.7367088794708252, 0.7417721748352051, 0.7518987059593201, 0.7620252966880798, 0.7594936490058899, 0.7784810066223145, 0.7696202397346497, 0.7708860635757446, 0.746835470199585, 0.7696202397346497, 0.7506328821182251, 0.7582278251647949, 0.7481012940406799, 0.7493671178817749, 0.7734177112579346, 0.7645569443702698, 0.7746835350990295, 0.7924050688743591, 0.7873417735099792, 0.7924050688743591, 0.8126582503318787, 0.7822784781455994, 0.7936708927154541, 0.7607594728469849, 0.7607594728469849, 0.8037974834442139, 0.7810126543045044, 0.7607594728469849, 0.8037974834442139, 0.800000011920929, 0.8012658357620239, 0.7936708927154541, 0.8075949549674988, 0.8189873695373535, 0.7772151827812195, 0.7822784781455994, 0.800000011920929, 0.7936708927154541, 0.8202531933784485, 0.8215189576148987, 0.8101266026496887, 0.8139240741729736, 0.7924050688743591, 0.8050633072853088, 0.8164557218551636, 0.8253164291381836, 0.8050633072853088, 0.8278480768203735, 0.7797468304634094, 0.8025316596031189, 0.8113924264907837, 0.8443037867546082, 0.8189873695373535, 0.8227847814559937, 0.8405063152313232, 0.8265822529792786, 0.853164553642273, 0.8278480768203735, 0.8354430198669434, 0.8417721390724182, 0.8265822529792786, 0.8113924264907837, 0.8139240741729736, 0.8189873695373535, 0.8164557218551636, 0.8240506052970886, 0.8658227920532227]\n"
          ]
        }
      ],
      "source": [
        "#history.history ??\n",
        "history.history.keys()\n",
        "print(history.history['accuracy'])"
      ]
    },
    {
      "cell_type": "code",
      "execution_count": 24,
      "metadata": {
        "colab": {
          "base_uri": "https://localhost:8080/"
        },
        "id": "mKLre7uhJKq4",
        "outputId": "706ac1d0-f877-41b4-fff9-ca0e7c1db690"
      },
      "outputs": [
        {
          "data": {
            "text/plain": [
              "{'loss': [11.857020378112793,\n",
              "  4.077569961547852,\n",
              "  1.7118561267852783,\n",
              "  1.7898279428482056,\n",
              "  1.4613993167877197,\n",
              "  1.1689287424087524,\n",
              "  1.0146342515945435,\n",
              "  1.0030369758605957,\n",
              "  1.0024267435073853,\n",
              "  0.9164365530014038,\n",
              "  0.8839397430419922,\n",
              "  0.9281355142593384,\n",
              "  0.9107050895690918,\n",
              "  0.8985469937324524,\n",
              "  0.8320286870002747,\n",
              "  0.8852687478065491,\n",
              "  0.8369277119636536,\n",
              "  0.8230361938476562,\n",
              "  0.8669263124465942,\n",
              "  0.8398798108100891,\n",
              "  0.7651524543762207,\n",
              "  0.8126342296600342,\n",
              "  0.8207594752311707,\n",
              "  0.7909705638885498,\n",
              "  0.751393735408783,\n",
              "  0.7429580092430115,\n",
              "  0.7508754134178162,\n",
              "  0.7570406794548035,\n",
              "  0.7538858652114868,\n",
              "  0.7234718799591064,\n",
              "  0.7341526746749878,\n",
              "  0.7426212430000305,\n",
              "  0.764894425868988,\n",
              "  0.6909881830215454,\n",
              "  0.6732279658317566,\n",
              "  0.721211850643158,\n",
              "  0.7177484035491943,\n",
              "  0.6704475283622742,\n",
              "  0.6788058876991272,\n",
              "  0.6771023869514465,\n",
              "  0.6881354451179504,\n",
              "  0.6931519508361816,\n",
              "  0.696749746799469,\n",
              "  0.643923819065094,\n",
              "  0.6526509523391724,\n",
              "  0.6689049601554871,\n",
              "  0.6648374795913696,\n",
              "  0.6793739199638367,\n",
              "  0.6241442561149597,\n",
              "  0.6169283986091614,\n",
              "  0.6047122478485107,\n",
              "  0.6404359340667725,\n",
              "  0.6188839077949524,\n",
              "  0.6568013429641724,\n",
              "  0.644324541091919,\n",
              "  0.6188373565673828,\n",
              "  0.5743862390518188,\n",
              "  0.595582127571106,\n",
              "  0.5501394271850586,\n",
              "  0.5797651410102844,\n",
              "  0.5748014450073242,\n",
              "  0.627082884311676,\n",
              "  0.5800882577896118,\n",
              "  0.5508928298950195,\n",
              "  0.5776229500770569,\n",
              "  0.6390798687934875,\n",
              "  0.6328879594802856,\n",
              "  0.565233588218689,\n",
              "  0.5629566311836243,\n",
              "  0.5368244647979736,\n",
              "  0.5170938968658447,\n",
              "  0.5099863409996033,\n",
              "  0.48144829273223877,\n",
              "  0.48229581117630005,\n",
              "  0.5261609554290771,\n",
              "  0.5197479128837585,\n",
              "  0.6127103567123413,\n",
              "  0.6180685758590698,\n",
              "  0.5066999793052673,\n",
              "  0.5401660203933716,\n",
              "  0.5484069585800171,\n",
              "  0.5180805325508118,\n",
              "  0.46867647767066956,\n",
              "  0.512377142906189,\n",
              "  0.544206440448761,\n",
              "  0.5140596628189087,\n",
              "  0.474123477935791,\n",
              "  0.5554040670394897,\n",
              "  0.5273770689964294,\n",
              "  0.5061222314834595,\n",
              "  0.4853091835975647,\n",
              "  0.4604879915714264,\n",
              "  0.45965147018432617,\n",
              "  0.4533974826335907,\n",
              "  0.5019457340240479,\n",
              "  0.470572829246521,\n",
              "  0.457071989774704,\n",
              "  0.4720582067966461,\n",
              "  0.45181918144226074,\n",
              "  0.49002206325531006,\n",
              "  0.43533220887184143,\n",
              "  0.5493592619895935,\n",
              "  0.5212568640708923,\n",
              "  0.4917230010032654,\n",
              "  0.4306892454624176,\n",
              "  0.4296818971633911,\n",
              "  0.4285863935947418,\n",
              "  0.4127134680747986,\n",
              "  0.41430339217185974,\n",
              "  0.3970688581466675,\n",
              "  0.4414465129375458,\n",
              "  0.42381641268730164,\n",
              "  0.3921412527561188,\n",
              "  0.4327392578125,\n",
              "  0.45760178565979004,\n",
              "  0.4645785987377167,\n",
              "  0.45231863856315613,\n",
              "  0.4318632185459137,\n",
              "  0.41928574442863464,\n",
              "  0.37686586380004883],\n",
              " 'accuracy': [0.4303797483444214,\n",
              "  0.4177215099334717,\n",
              "  0.5126582384109497,\n",
              "  0.551898717880249,\n",
              "  0.4683544337749481,\n",
              "  0.5367088317871094,\n",
              "  0.5924050807952881,\n",
              "  0.594936728477478,\n",
              "  0.6025316715240479,\n",
              "  0.6101265549659729,\n",
              "  0.6430379748344421,\n",
              "  0.6025316715240479,\n",
              "  0.6164556741714478,\n",
              "  0.6417721509933472,\n",
              "  0.6379746794700623,\n",
              "  0.646835446357727,\n",
              "  0.6658228039741516,\n",
              "  0.6405063271522522,\n",
              "  0.6379746794700623,\n",
              "  0.6582278609275818,\n",
              "  0.6696202754974365,\n",
              "  0.6518987417221069,\n",
              "  0.6696202754974365,\n",
              "  0.6886075735092163,\n",
              "  0.6886075735092163,\n",
              "  0.6974683403968811,\n",
              "  0.6936708688735962,\n",
              "  0.6848101019859314,\n",
              "  0.6873417496681213,\n",
              "  0.7253164649009705,\n",
              "  0.6936708688735962,\n",
              "  0.6810126304626465,\n",
              "  0.6936708688735962,\n",
              "  0.7101265788078308,\n",
              "  0.7253164649009705,\n",
              "  0.6949366927146912,\n",
              "  0.7151898741722107,\n",
              "  0.7189873456954956,\n",
              "  0.7227848172187805,\n",
              "  0.7240506410598755,\n",
              "  0.6962025165557861,\n",
              "  0.7316455841064453,\n",
              "  0.7050632834434509,\n",
              "  0.7227848172187805,\n",
              "  0.7430379986763,\n",
              "  0.7202531695365906,\n",
              "  0.7329114079475403,\n",
              "  0.7329114079475403,\n",
              "  0.7481012940406799,\n",
              "  0.7493671178817749,\n",
              "  0.7683544158935547,\n",
              "  0.7291139364242554,\n",
              "  0.7658227682113647,\n",
              "  0.7367088794708252,\n",
              "  0.7417721748352051,\n",
              "  0.7518987059593201,\n",
              "  0.7620252966880798,\n",
              "  0.7594936490058899,\n",
              "  0.7784810066223145,\n",
              "  0.7696202397346497,\n",
              "  0.7708860635757446,\n",
              "  0.746835470199585,\n",
              "  0.7696202397346497,\n",
              "  0.7506328821182251,\n",
              "  0.7582278251647949,\n",
              "  0.7481012940406799,\n",
              "  0.7493671178817749,\n",
              "  0.7734177112579346,\n",
              "  0.7645569443702698,\n",
              "  0.7746835350990295,\n",
              "  0.7924050688743591,\n",
              "  0.7873417735099792,\n",
              "  0.7924050688743591,\n",
              "  0.8126582503318787,\n",
              "  0.7822784781455994,\n",
              "  0.7936708927154541,\n",
              "  0.7607594728469849,\n",
              "  0.7607594728469849,\n",
              "  0.8037974834442139,\n",
              "  0.7810126543045044,\n",
              "  0.7607594728469849,\n",
              "  0.8037974834442139,\n",
              "  0.800000011920929,\n",
              "  0.8012658357620239,\n",
              "  0.7936708927154541,\n",
              "  0.8075949549674988,\n",
              "  0.8189873695373535,\n",
              "  0.7772151827812195,\n",
              "  0.7822784781455994,\n",
              "  0.800000011920929,\n",
              "  0.7936708927154541,\n",
              "  0.8202531933784485,\n",
              "  0.8215189576148987,\n",
              "  0.8101266026496887,\n",
              "  0.8139240741729736,\n",
              "  0.7924050688743591,\n",
              "  0.8050633072853088,\n",
              "  0.8164557218551636,\n",
              "  0.8253164291381836,\n",
              "  0.8050633072853088,\n",
              "  0.8278480768203735,\n",
              "  0.7797468304634094,\n",
              "  0.8025316596031189,\n",
              "  0.8113924264907837,\n",
              "  0.8443037867546082,\n",
              "  0.8189873695373535,\n",
              "  0.8227847814559937,\n",
              "  0.8405063152313232,\n",
              "  0.8265822529792786,\n",
              "  0.853164553642273,\n",
              "  0.8278480768203735,\n",
              "  0.8354430198669434,\n",
              "  0.8417721390724182,\n",
              "  0.8265822529792786,\n",
              "  0.8113924264907837,\n",
              "  0.8139240741729736,\n",
              "  0.8189873695373535,\n",
              "  0.8164557218551636,\n",
              "  0.8240506052970886,\n",
              "  0.8658227920532227],\n",
              " 'top-5-accuracy': [1.0,\n",
              "  1.0,\n",
              "  1.0,\n",
              "  1.0,\n",
              "  1.0,\n",
              "  1.0,\n",
              "  1.0,\n",
              "  1.0,\n",
              "  1.0,\n",
              "  1.0,\n",
              "  1.0,\n",
              "  1.0,\n",
              "  1.0,\n",
              "  1.0,\n",
              "  1.0,\n",
              "  1.0,\n",
              "  1.0,\n",
              "  1.0,\n",
              "  1.0,\n",
              "  1.0,\n",
              "  1.0,\n",
              "  1.0,\n",
              "  1.0,\n",
              "  1.0,\n",
              "  1.0,\n",
              "  1.0,\n",
              "  1.0,\n",
              "  1.0,\n",
              "  1.0,\n",
              "  1.0,\n",
              "  1.0,\n",
              "  1.0,\n",
              "  1.0,\n",
              "  1.0,\n",
              "  1.0,\n",
              "  1.0,\n",
              "  1.0,\n",
              "  1.0,\n",
              "  1.0,\n",
              "  1.0,\n",
              "  1.0,\n",
              "  1.0,\n",
              "  1.0,\n",
              "  1.0,\n",
              "  1.0,\n",
              "  1.0,\n",
              "  1.0,\n",
              "  1.0,\n",
              "  1.0,\n",
              "  1.0,\n",
              "  1.0,\n",
              "  1.0,\n",
              "  1.0,\n",
              "  1.0,\n",
              "  1.0,\n",
              "  1.0,\n",
              "  1.0,\n",
              "  1.0,\n",
              "  1.0,\n",
              "  1.0,\n",
              "  1.0,\n",
              "  1.0,\n",
              "  1.0,\n",
              "  1.0,\n",
              "  1.0,\n",
              "  1.0,\n",
              "  1.0,\n",
              "  1.0,\n",
              "  1.0,\n",
              "  1.0,\n",
              "  1.0,\n",
              "  1.0,\n",
              "  1.0,\n",
              "  1.0,\n",
              "  1.0,\n",
              "  1.0,\n",
              "  1.0,\n",
              "  1.0,\n",
              "  1.0,\n",
              "  1.0,\n",
              "  1.0,\n",
              "  1.0,\n",
              "  1.0,\n",
              "  1.0,\n",
              "  1.0,\n",
              "  1.0,\n",
              "  1.0,\n",
              "  1.0,\n",
              "  1.0,\n",
              "  1.0,\n",
              "  1.0,\n",
              "  1.0,\n",
              "  1.0,\n",
              "  1.0,\n",
              "  1.0,\n",
              "  1.0,\n",
              "  1.0,\n",
              "  1.0,\n",
              "  1.0,\n",
              "  1.0,\n",
              "  1.0,\n",
              "  1.0,\n",
              "  1.0,\n",
              "  1.0,\n",
              "  1.0,\n",
              "  1.0,\n",
              "  1.0,\n",
              "  1.0,\n",
              "  1.0,\n",
              "  1.0,\n",
              "  1.0,\n",
              "  1.0,\n",
              "  1.0,\n",
              "  1.0,\n",
              "  1.0,\n",
              "  1.0,\n",
              "  1.0,\n",
              "  1.0,\n",
              "  1.0,\n",
              "  1.0],\n",
              " 'val_loss': [4.02950382232666,\n",
              "  1.0209158658981323,\n",
              "  1.4683200120925903,\n",
              "  1.1239265203475952,\n",
              "  0.8605032563209534,\n",
              "  0.8356794714927673,\n",
              "  0.8060989379882812,\n",
              "  0.780656635761261,\n",
              "  0.7696773409843445,\n",
              "  0.8007991313934326,\n",
              "  0.8627227544784546,\n",
              "  0.7555692791938782,\n",
              "  0.7897331714630127,\n",
              "  0.8042011260986328,\n",
              "  0.7665224671363831,\n",
              "  0.7154052257537842,\n",
              "  0.7862758040428162,\n",
              "  0.7703888416290283,\n",
              "  0.7301385402679443,\n",
              "  0.6912543177604675,\n",
              "  0.6996992230415344,\n",
              "  0.6901535987854004,\n",
              "  0.6453043818473816,\n",
              "  0.6341710686683655,\n",
              "  0.6457116603851318,\n",
              "  0.6394509673118591,\n",
              "  0.6509205102920532,\n",
              "  0.6465163826942444,\n",
              "  0.6360538005828857,\n",
              "  0.6169252395629883,\n",
              "  0.5994088649749756,\n",
              "  0.6104153990745544,\n",
              "  0.5856115818023682,\n",
              "  0.596561849117279,\n",
              "  0.6008813381195068,\n",
              "  0.5810756683349609,\n",
              "  0.5495750904083252,\n",
              "  0.5410302877426147,\n",
              "  0.5700399875640869,\n",
              "  0.5957193970680237,\n",
              "  0.5887836217880249,\n",
              "  0.5886316895484924,\n",
              "  0.6035389304161072,\n",
              "  0.549761950969696,\n",
              "  0.5797672867774963,\n",
              "  0.5974046587944031,\n",
              "  0.56795734167099,\n",
              "  0.528001606464386,\n",
              "  0.5157451033592224,\n",
              "  0.46966269612312317,\n",
              "  0.46368569135665894,\n",
              "  0.4725685119628906,\n",
              "  0.5289643406867981,\n",
              "  0.5186982750892639,\n",
              "  0.5335622429847717,\n",
              "  0.47532370686531067,\n",
              "  0.45692530274391174,\n",
              "  0.44856059551239014,\n",
              "  0.43721678853034973,\n",
              "  0.4245462119579315,\n",
              "  0.45704251527786255,\n",
              "  0.4532512426376343,\n",
              "  0.4493018090724945,\n",
              "  0.45987045764923096,\n",
              "  0.4917515814304352,\n",
              "  0.4764270782470703,\n",
              "  0.4883936047554016,\n",
              "  0.5196679830551147,\n",
              "  0.4980972409248352,\n",
              "  0.5038956999778748,\n",
              "  0.45368054509162903,\n",
              "  0.42457208037376404,\n",
              "  0.4100897014141083,\n",
              "  0.3941222131252289,\n",
              "  0.42256104946136475,\n",
              "  0.45707273483276367,\n",
              "  0.4642680883407593,\n",
              "  0.44014987349510193,\n",
              "  0.449928879737854,\n",
              "  0.40469494462013245,\n",
              "  0.4303945302963257,\n",
              "  0.4346258342266083,\n",
              "  0.3919326066970825,\n",
              "  0.4191666543483734,\n",
              "  0.40913817286491394,\n",
              "  0.39653536677360535,\n",
              "  0.4527302086353302,\n",
              "  0.4397505819797516,\n",
              "  0.40622270107269287,\n",
              "  0.37181177735328674,\n",
              "  0.3433731198310852,\n",
              "  0.3716569244861603,\n",
              "  0.3593622148036957,\n",
              "  0.39388179779052734,\n",
              "  0.4110366702079773,\n",
              "  0.4081927537918091,\n",
              "  0.36169832944869995,\n",
              "  0.3814442455768585,\n",
              "  0.3945428133010864,\n",
              "  0.35730284452438354,\n",
              "  0.46863678097724915,\n",
              "  0.39787065982818604,\n",
              "  0.37555238604545593,\n",
              "  0.37577733397483826,\n",
              "  0.3899969756603241,\n",
              "  0.3586450517177582,\n",
              "  0.37200096249580383,\n",
              "  0.34958410263061523,\n",
              "  0.3210796117782593,\n",
              "  0.3208669424057007,\n",
              "  0.3163372874259949,\n",
              "  0.33863189816474915,\n",
              "  0.3736628592014313,\n",
              "  0.35810843110084534,\n",
              "  0.39213964343070984,\n",
              "  0.35418474674224854,\n",
              "  0.350226491689682,\n",
              "  0.3376542329788208,\n",
              "  0.3064320385456085,\n",
              "  0.33073538541793823],\n",
              " 'val_accuracy': [0.4431818127632141,\n",
              "  0.4431818127632141,\n",
              "  0.47727271914482117,\n",
              "  0.28409090638160706,\n",
              "  0.6363636255264282,\n",
              "  0.6022727489471436,\n",
              "  0.625,\n",
              "  0.6136363744735718,\n",
              "  0.6704545617103577,\n",
              "  0.6022727489471436,\n",
              "  0.5795454382896423,\n",
              "  0.6136363744735718,\n",
              "  0.7045454382896423,\n",
              "  0.6931818127632141,\n",
              "  0.7386363744735718,\n",
              "  0.7272727489471436,\n",
              "  0.75,\n",
              "  0.7613636255264282,\n",
              "  0.75,\n",
              "  0.75,\n",
              "  0.75,\n",
              "  0.7045454382896423,\n",
              "  0.7386363744735718,\n",
              "  0.75,\n",
              "  0.7613636255264282,\n",
              "  0.7386363744735718,\n",
              "  0.75,\n",
              "  0.7727272510528564,\n",
              "  0.7727272510528564,\n",
              "  0.75,\n",
              "  0.7386363744735718,\n",
              "  0.7954545617103577,\n",
              "  0.7840909361839294,\n",
              "  0.8068181872367859,\n",
              "  0.8068181872367859,\n",
              "  0.7613636255264282,\n",
              "  0.7727272510528564,\n",
              "  0.8409090638160706,\n",
              "  0.75,\n",
              "  0.7727272510528564,\n",
              "  0.7840909361839294,\n",
              "  0.7840909361839294,\n",
              "  0.7727272510528564,\n",
              "  0.8181818127632141,\n",
              "  0.7613636255264282,\n",
              "  0.7613636255264282,\n",
              "  0.8181818127632141,\n",
              "  0.7727272510528564,\n",
              "  0.7954545617103577,\n",
              "  0.7954545617103577,\n",
              "  0.7840909361839294,\n",
              "  0.8295454382896423,\n",
              "  0.7840909361839294,\n",
              "  0.7727272510528564,\n",
              "  0.7727272510528564,\n",
              "  0.8522727489471436,\n",
              "  0.8295454382896423,\n",
              "  0.8522727489471436,\n",
              "  0.875,\n",
              "  0.8409090638160706,\n",
              "  0.8295454382896423,\n",
              "  0.8522727489471436,\n",
              "  0.8068181872367859,\n",
              "  0.7954545617103577,\n",
              "  0.7840909361839294,\n",
              "  0.8409090638160706,\n",
              "  0.8636363744735718,\n",
              "  0.8409090638160706,\n",
              "  0.8863636255264282,\n",
              "  0.8068181872367859,\n",
              "  0.8068181872367859,\n",
              "  0.8522727489471436,\n",
              "  0.8295454382896423,\n",
              "  0.8409090638160706,\n",
              "  0.8295454382896423,\n",
              "  0.7954545617103577,\n",
              "  0.8181818127632141,\n",
              "  0.8409090638160706,\n",
              "  0.8409090638160706,\n",
              "  0.8409090638160706,\n",
              "  0.8863636255264282,\n",
              "  0.875,\n",
              "  0.8295454382896423,\n",
              "  0.8181818127632141,\n",
              "  0.8636363744735718,\n",
              "  0.8977272510528564,\n",
              "  0.8295454382896423,\n",
              "  0.8295454382896423,\n",
              "  0.8409090638160706,\n",
              "  0.8522727489471436,\n",
              "  0.8863636255264282,\n",
              "  0.875,\n",
              "  0.8863636255264282,\n",
              "  0.8977272510528564,\n",
              "  0.875,\n",
              "  0.8977272510528564,\n",
              "  0.8522727489471436,\n",
              "  0.875,\n",
              "  0.8295454382896423,\n",
              "  0.8636363744735718,\n",
              "  0.7613636255264282,\n",
              "  0.8977272510528564,\n",
              "  0.8295454382896423,\n",
              "  0.8409090638160706,\n",
              "  0.8522727489471436,\n",
              "  0.9090909361839294,\n",
              "  0.9090909361839294,\n",
              "  0.9090909361839294,\n",
              "  0.8863636255264282,\n",
              "  0.8863636255264282,\n",
              "  0.875,\n",
              "  0.8977272510528564,\n",
              "  0.8863636255264282,\n",
              "  0.8522727489471436,\n",
              "  0.8863636255264282,\n",
              "  0.875,\n",
              "  0.8863636255264282,\n",
              "  0.8636363744735718,\n",
              "  0.9090909361839294,\n",
              "  0.8977272510528564],\n",
              " 'val_top-5-accuracy': [1.0,\n",
              "  1.0,\n",
              "  1.0,\n",
              "  1.0,\n",
              "  1.0,\n",
              "  1.0,\n",
              "  1.0,\n",
              "  1.0,\n",
              "  1.0,\n",
              "  1.0,\n",
              "  1.0,\n",
              "  1.0,\n",
              "  1.0,\n",
              "  1.0,\n",
              "  1.0,\n",
              "  1.0,\n",
              "  1.0,\n",
              "  1.0,\n",
              "  1.0,\n",
              "  1.0,\n",
              "  1.0,\n",
              "  1.0,\n",
              "  1.0,\n",
              "  1.0,\n",
              "  1.0,\n",
              "  1.0,\n",
              "  1.0,\n",
              "  1.0,\n",
              "  1.0,\n",
              "  1.0,\n",
              "  1.0,\n",
              "  1.0,\n",
              "  1.0,\n",
              "  1.0,\n",
              "  1.0,\n",
              "  1.0,\n",
              "  1.0,\n",
              "  1.0,\n",
              "  1.0,\n",
              "  1.0,\n",
              "  1.0,\n",
              "  1.0,\n",
              "  1.0,\n",
              "  1.0,\n",
              "  1.0,\n",
              "  1.0,\n",
              "  1.0,\n",
              "  1.0,\n",
              "  1.0,\n",
              "  1.0,\n",
              "  1.0,\n",
              "  1.0,\n",
              "  1.0,\n",
              "  1.0,\n",
              "  1.0,\n",
              "  1.0,\n",
              "  1.0,\n",
              "  1.0,\n",
              "  1.0,\n",
              "  1.0,\n",
              "  1.0,\n",
              "  1.0,\n",
              "  1.0,\n",
              "  1.0,\n",
              "  1.0,\n",
              "  1.0,\n",
              "  1.0,\n",
              "  1.0,\n",
              "  1.0,\n",
              "  1.0,\n",
              "  1.0,\n",
              "  1.0,\n",
              "  1.0,\n",
              "  1.0,\n",
              "  1.0,\n",
              "  1.0,\n",
              "  1.0,\n",
              "  1.0,\n",
              "  1.0,\n",
              "  1.0,\n",
              "  1.0,\n",
              "  1.0,\n",
              "  1.0,\n",
              "  1.0,\n",
              "  1.0,\n",
              "  1.0,\n",
              "  1.0,\n",
              "  1.0,\n",
              "  1.0,\n",
              "  1.0,\n",
              "  1.0,\n",
              "  1.0,\n",
              "  1.0,\n",
              "  1.0,\n",
              "  1.0,\n",
              "  1.0,\n",
              "  1.0,\n",
              "  1.0,\n",
              "  1.0,\n",
              "  1.0,\n",
              "  1.0,\n",
              "  1.0,\n",
              "  1.0,\n",
              "  1.0,\n",
              "  1.0,\n",
              "  1.0,\n",
              "  1.0,\n",
              "  1.0,\n",
              "  1.0,\n",
              "  1.0,\n",
              "  1.0,\n",
              "  1.0,\n",
              "  1.0,\n",
              "  1.0,\n",
              "  1.0,\n",
              "  1.0,\n",
              "  1.0,\n",
              "  1.0,\n",
              "  1.0,\n",
              "  1.0]}"
            ]
          },
          "execution_count": 24,
          "metadata": {},
          "output_type": "execute_result"
        }
      ],
      "source": [
        "history.history"
      ]
    },
    {
      "cell_type": "code",
      "execution_count": 25,
      "metadata": {
        "colab": {
          "base_uri": "https://localhost:8080/",
          "height": 489
        },
        "id": "rviEUtckJNh-",
        "outputId": "e5416adf-3cb4-4eca-ee2c-569483061c68"
      },
      "outputs": [
        {
          "data": {
            "image/png": "[encoded data removed]",
            "text/plain": [
              "<Figure size 640x480 with 1 Axes>"
            ]
          },
          "metadata": {},
          "output_type": "display_data"
        },
        {
          "name": "stdout",
          "output_type": "stream",
          "text": [
            "epochs:  120  heads:  8\n"
          ]
        }
      ],
      "source": [
        "import matplotlib.pyplot as plt\n",
        "\n",
        "loss_train = history.history['accuracy']\n",
        "loss_val = history.history['val_accuracy']\n",
        "epochs = range(0,num_epochs)\n",
        "plt.plot(epochs, loss_train, 'g', label='Training accuracy')\n",
        "#plt.plot(epochs, loss_val, 'b', label='validation accuracy')\n",
        "plt.title('Training and Validation accuracy')\n",
        "plt.xlabel('Epochs')\n",
        "plt.ylabel('Accuracy')\n",
        "plt.legend()\n",
        "plt.show()\n",
        "\n",
        "print('epochs: ',num_epochs,' heads: ',num_heads)"
      ]
    },
    {
      "cell_type": "code",
      "execution_count": 26,
      "metadata": {
        "colab": {
          "base_uri": "https://localhost:8080/",
          "height": 1000
        },
        "id": "1MKmZmPgJRPN",
        "outputId": "9e83db3d-78e2-40a6-f8a1-03700c10d37f"
      },
      "outputs": [
        {
          "name": "stdout",
          "output_type": "stream",
          "text": [
            "epochs:  120  heads:  8\n"
          ]
        },
        {
          "data": {
            "image/png": "[encoded data removed]",
            "text/plain": [
              "<Figure size 800x600 with 1 Axes>"
            ]
          },
          "metadata": {},
          "output_type": "display_data"
        },
        {
          "data": {
            "image/png": "[encoded data removed]",
            "text/plain": [
              "<Figure size 800x600 with 1 Axes>"
            ]
          },
          "metadata": {},
          "output_type": "display_data"
        }
      ],
      "source": [
        "plt.figure(figsize=[8,6])\n",
        "plt.plot(history.history['loss'],'r',linewidth=3.0)\n",
        "plt.plot(history.history['val_loss'],'b',linewidth=3.0)\n",
        "plt.legend(['Training loss', 'Validation Loss'],fontsize=18)\n",
        "plt.xlabel('Epochs ',fontsize=16)\n",
        "plt.ylabel('Loss',fontsize=16)\n",
        "plt.title('Loss Curves',fontsize=16)\n",
        "\n",
        "# Accuracy Curves\n",
        "plt.figure(figsize=[8,6])\n",
        "plt.plot(history.history['accuracy'],'r',linewidth=3.0)\n",
        "plt.plot(history.history['val_accuracy'],'b',linewidth=3.0)\n",
        "plt.legend(['Training Accuracy', 'Validation Accuracy'],fontsize=18)\n",
        "plt.xlabel('Epochs ',fontsize=16)\n",
        "plt.ylabel('Accuracy',fontsize=16)\n",
        "plt.title('Accuracy Curves',fontsize=16)\n",
        "\n",
        "print('epochs: ',num_epochs,' heads: ',num_heads)"
      ]
    },
    {
      "cell_type": "code",
      "execution_count": 27,
      "metadata": {
        "colab": {
          "base_uri": "https://localhost:8080/"
        },
        "id": "_puJ986HJTyP",
        "outputId": "05f90bc1-44ed-476c-93c6-b7edc9992b36"
      },
      "outputs": [
        {
          "name": "stdout",
          "output_type": "stream",
          "text": [
            "\u001b[0m\u001b[01;34mdrive\u001b[0m/  \u001b[01;34msample_data\u001b[0m/\n"
          ]
        }
      ],
      "source": [
        "%ls"
      ]
    },
    {
      "cell_type": "code",
      "execution_count": 28,
      "metadata": {
        "id": "-JXXAU5YJWGY"
      },
      "outputs": [],
      "source": [
        "vit_classifier.save_weights('/content/drive/MyDrive/work')"
      ]
    },
    {
      "cell_type": "code",
      "execution_count": 29,
      "metadata": {
        "id": "AzlPVyz_JZO5"
      },
      "outputs": [],
      "source": [
        "vit_classifier.save('vit_model')"
      ]
    },
    {
      "cell_type": "code",
      "execution_count": 36,
      "metadata": {
        "id": "JqU5V6MBYNzu"
      },
      "outputs": [],
      "source": [
        "vit_model = create_vit_classifier()"
      ]
    },
    {
      "cell_type": "code",
      "execution_count": 37,
      "metadata": {
        "colab": {
          "base_uri": "https://localhost:8080/"
        },
        "id": "rO2f5mX9JdfB",
        "outputId": "35db2445-0e1a-4db5-a3fc-e2ccaca60c12"
      },
      "outputs": [
        {
          "name": "stdout",
          "output_type": "stream",
          "text": [
            "[2 0 1 1 1 1 2 2 1 2 1 2 2 2 1 2 2 0 1 2 1 2 1 1 1 2 2 0 2 1 2 2 1 1 1 1 1\n",
            " 1 1 2 0 2 1 2 2 1 0 1 1 2 1 1 1 1 1 1 2 2 1 2 0 1 1 1 2 0 1 1 1 2 1 1 2 1\n",
            " 1 1 2 2 1 1 1 2 0 0 2 1 2 1 2 2 1 1 2 1 1 1 1 2 1 0 1 2 2 1 1 1 1 2 2 0 1\n",
            " 1 2 2 1 0 1 1 1 0 2 2 1 2 2 1 2 1 2 1 1 2 1 1 2 0 1 1 2 1 1 0 1 2 1 1 1 1\n",
            " 2 2 0 1 2 0 1 2 2 1 1 2 2 1 1 2 1 1 2 2 1 2 2 2 2 2 0 1 2 0 1 2 0 1 1 2 1\n",
            " 1 2 2 1 1 2 1 1 2 2 1 2 2 2 2 1 2 1 1 2 2 1 1 1 1 2 0 1 2 1 2 2 1 1 2]\n",
            "35/35 [==============================] - 38s 1s/step\n"
          ]
        }
      ],
      "source": [
        "# X_train, X_test, y_train, y_test = train_test_split(data, labels, test_size=0.2, random_state=0)\n",
        "print(y_test)\n",
        "x_outputs = vit_model.predict(data)"
      ]
    },
    {
      "cell_type": "code",
      "execution_count": 31,
      "metadata": {
        "colab": {
          "base_uri": "https://localhost:8080/"
        },
        "id": "U12PmGngJfnx",
        "outputId": "497ba988-13ad-4dd8-d5a9-1a3e0df4e196"
      },
      "outputs": [
        {
          "data": {
            "text/plain": [
              "array([[[[ 38,  38,  38],\n",
              "         [ 38,  38,  38],\n",
              "         [ 42,  42,  42],\n",
              "         ...,\n",
              "         [ 40,  40,  40],\n",
              "         [ 38,  38,  38],\n",
              "         [ 38,  38,  38]],\n",
              "\n",
              "        [[ 38,  38,  38],\n",
              "         [ 41,  41,  41],\n",
              "         [ 44,  44,  44],\n",
              "         ...,\n",
              "         [ 43,  43,  43],\n",
              "         [ 40,  40,  40],\n",
              "         [ 38,  38,  38]],\n",
              "\n",
              "        [[ 41,  41,  41],\n",
              "         [ 43,  43,  43],\n",
              "         [ 43,  43,  43],\n",
              "         ...,\n",
              "         [ 43,  43,  43],\n",
              "         [ 43,  43,  43],\n",
              "         [ 40,  40,  40]],\n",
              "\n",
              "        ...,\n",
              "\n",
              "        [[ 41,  41,  41],\n",
              "         [ 44,  44,  44],\n",
              "         [ 44,  44,  44],\n",
              "         ...,\n",
              "         [ 43,  43,  43],\n",
              "         [ 43,  43,  43],\n",
              "         [ 40,  40,  40]],\n",
              "\n",
              "        [[ 38,  38,  38],\n",
              "         [ 42,  42,  42],\n",
              "         [ 44,  44,  44],\n",
              "         ...,\n",
              "         [ 43,  43,  43],\n",
              "         [ 41,  41,  41],\n",
              "         [ 38,  38,  38]],\n",
              "\n",
              "        [[ 38,  38,  38],\n",
              "         [ 38,  38,  38],\n",
              "         [ 41,  41,  41],\n",
              "         ...,\n",
              "         [ 40,  40,  40],\n",
              "         [ 38,  38,  38],\n",
              "         [ 38,  38,  38]]],\n",
              "\n",
              "\n",
              "       [[[ 37,  37,  37],\n",
              "         [ 37,  37,  37],\n",
              "         [ 37,  37,  37],\n",
              "         ...,\n",
              "         [ 37,  37,  37],\n",
              "         [ 37,  37,  37],\n",
              "         [ 37,  37,  37]],\n",
              "\n",
              "        [[ 37,  37,  37],\n",
              "         [ 37,  37,  37],\n",
              "         [ 37,  37,  37],\n",
              "         ...,\n",
              "         [ 36,  36,  36],\n",
              "         [ 37,  37,  37],\n",
              "         [ 37,  37,  37]],\n",
              "\n",
              "        [[ 37,  37,  37],\n",
              "         [ 37,  37,  37],\n",
              "         [ 36,  36,  36],\n",
              "         ...,\n",
              "         [ 45,  45,  45],\n",
              "         [ 36,  36,  36],\n",
              "         [ 37,  37,  37]],\n",
              "\n",
              "        ...,\n",
              "\n",
              "        [[ 37,  37,  37],\n",
              "         [ 37,  37,  37],\n",
              "         [ 34,  34,  34],\n",
              "         ...,\n",
              "         [ 43,  43,  43],\n",
              "         [ 36,  36,  36],\n",
              "         [ 37,  37,  37]],\n",
              "\n",
              "        [[ 37,  37,  37],\n",
              "         [ 37,  37,  37],\n",
              "         [ 37,  37,  37],\n",
              "         ...,\n",
              "         [ 36,  36,  36],\n",
              "         [ 37,  37,  37],\n",
              "         [ 37,  37,  37]],\n",
              "\n",
              "        [[ 37,  37,  37],\n",
              "         [ 37,  37,  37],\n",
              "         [ 37,  37,  37],\n",
              "         ...,\n",
              "         [ 37,  37,  37],\n",
              "         [ 37,  37,  37],\n",
              "         [ 37,  37,  37]]],\n",
              "\n",
              "\n",
              "       [[[ 38,  38,  38],\n",
              "         [ 39,  39,  39],\n",
              "         [ 41,  41,  41],\n",
              "         ...,\n",
              "         [ 43,  43,  43],\n",
              "         [ 42,  42,  42],\n",
              "         [ 40,  40,  40]],\n",
              "\n",
              "        [[ 38,  38,  38],\n",
              "         [ 41,  41,  41],\n",
              "         [ 43,  43,  43],\n",
              "         ...,\n",
              "         [ 43,  43,  43],\n",
              "         [ 43,  43,  43],\n",
              "         [ 42,  42,  42]],\n",
              "\n",
              "        [[ 41,  41,  41],\n",
              "         [ 42,  42,  42],\n",
              "         [ 43,  43,  43],\n",
              "         ...,\n",
              "         [ 43,  43,  43],\n",
              "         [ 43,  43,  43],\n",
              "         [ 43,  43,  43]],\n",
              "\n",
              "        ...,\n",
              "\n",
              "        [[ 42,  42,  42],\n",
              "         [ 79,  79,  79],\n",
              "         [103, 103, 103],\n",
              "         ...,\n",
              "         [ 92,  92,  92],\n",
              "         [ 99,  99,  99],\n",
              "         [ 73,  73,  73]],\n",
              "\n",
              "        [[ 38,  38,  38],\n",
              "         [ 36,  36,  36],\n",
              "         [ 43,  43,  43],\n",
              "         ...,\n",
              "         [ 61,  61,  61],\n",
              "         [ 41,  41,  41],\n",
              "         [ 38,  38,  38]],\n",
              "\n",
              "        [[ 38,  38,  38],\n",
              "         [ 38,  38,  38],\n",
              "         [ 40,  40,  40],\n",
              "         ...,\n",
              "         [ 40,  40,  40],\n",
              "         [ 42,  42,  42],\n",
              "         [ 39,  39,  39]]],\n",
              "\n",
              "\n",
              "       ...,\n",
              "\n",
              "\n",
              "       [[[ 38,  38,  38],\n",
              "         [ 38,  38,  38],\n",
              "         [ 38,  38,  38],\n",
              "         ...,\n",
              "         [ 38,  38,  38],\n",
              "         [ 38,  38,  38],\n",
              "         [ 38,  38,  38]],\n",
              "\n",
              "        [[ 38,  38,  38],\n",
              "         [ 38,  38,  38],\n",
              "         [ 38,  38,  38],\n",
              "         ...,\n",
              "         [ 41,  41,  41],\n",
              "         [ 38,  38,  38],\n",
              "         [ 38,  38,  38]],\n",
              "\n",
              "        [[ 38,  38,  38],\n",
              "         [ 38,  38,  38],\n",
              "         [ 41,  41,  41],\n",
              "         ...,\n",
              "         [ 43,  43,  43],\n",
              "         [ 41,  41,  41],\n",
              "         [ 38,  38,  38]],\n",
              "\n",
              "        ...,\n",
              "\n",
              "        [[ 38,  38,  38],\n",
              "         [ 38,  38,  38],\n",
              "         [ 41,  41,  41],\n",
              "         ...,\n",
              "         [ 42,  42,  42],\n",
              "         [ 40,  40,  40],\n",
              "         [ 38,  38,  38]],\n",
              "\n",
              "        [[ 38,  38,  38],\n",
              "         [ 38,  38,  38],\n",
              "         [ 38,  38,  38],\n",
              "         ...,\n",
              "         [ 40,  40,  40],\n",
              "         [ 38,  38,  38],\n",
              "         [ 38,  38,  38]],\n",
              "\n",
              "        [[ 38,  38,  38],\n",
              "         [ 38,  38,  38],\n",
              "         [ 38,  38,  38],\n",
              "         ...,\n",
              "         [ 38,  38,  38],\n",
              "         [ 38,  38,  38],\n",
              "         [ 38,  38,  38]]],\n",
              "\n",
              "\n",
              "       [[[ 38,  38,  38],\n",
              "         [ 38,  38,  38],\n",
              "         [ 38,  38,  38],\n",
              "         ...,\n",
              "         [ 38,  38,  38],\n",
              "         [ 38,  38,  38],\n",
              "         [ 38,  38,  38]],\n",
              "\n",
              "        [[ 38,  38,  38],\n",
              "         [ 38,  38,  38],\n",
              "         [ 38,  38,  38],\n",
              "         ...,\n",
              "         [ 38,  38,  38],\n",
              "         [ 38,  38,  38],\n",
              "         [ 38,  38,  38]],\n",
              "\n",
              "        [[ 38,  38,  38],\n",
              "         [ 38,  38,  38],\n",
              "         [ 38,  38,  38],\n",
              "         ...,\n",
              "         [ 38,  38,  38],\n",
              "         [ 38,  38,  38],\n",
              "         [ 38,  38,  38]],\n",
              "\n",
              "        ...,\n",
              "\n",
              "        [[ 38,  38,  38],\n",
              "         [ 38,  38,  38],\n",
              "         [ 38,  38,  38],\n",
              "         ...,\n",
              "         [ 38,  38,  38],\n",
              "         [ 38,  38,  38],\n",
              "         [ 38,  38,  38]],\n",
              "\n",
              "        [[ 38,  38,  38],\n",
              "         [ 38,  38,  38],\n",
              "         [ 38,  38,  38],\n",
              "         ...,\n",
              "         [ 38,  38,  38],\n",
              "         [ 38,  38,  38],\n",
              "         [ 38,  38,  38]],\n",
              "\n",
              "        [[ 38,  38,  38],\n",
              "         [ 38,  38,  38],\n",
              "         [ 38,  38,  38],\n",
              "         ...,\n",
              "         [ 38,  38,  38],\n",
              "         [ 38,  38,  38],\n",
              "         [ 38,  38,  38]]],\n",
              "\n",
              "\n",
              "       [[[ 38,  38,  38],\n",
              "         [ 38,  38,  38],\n",
              "         [ 38,  38,  38],\n",
              "         ...,\n",
              "         [ 38,  38,  38],\n",
              "         [ 38,  38,  38],\n",
              "         [ 38,  38,  38]],\n",
              "\n",
              "        [[ 38,  38,  38],\n",
              "         [ 38,  38,  38],\n",
              "         [ 38,  38,  38],\n",
              "         ...,\n",
              "         [ 38,  38,  38],\n",
              "         [ 38,  38,  38],\n",
              "         [ 38,  38,  38]],\n",
              "\n",
              "        [[ 38,  38,  38],\n",
              "         [ 38,  38,  38],\n",
              "         [ 38,  38,  38],\n",
              "         ...,\n",
              "         [ 38,  38,  38],\n",
              "         [ 38,  38,  38],\n",
              "         [ 38,  38,  38]],\n",
              "\n",
              "        ...,\n",
              "\n",
              "        [[ 38,  38,  38],\n",
              "         [ 38,  38,  38],\n",
              "         [ 38,  38,  38],\n",
              "         ...,\n",
              "         [ 38,  38,  38],\n",
              "         [ 38,  38,  38],\n",
              "         [ 38,  38,  38]],\n",
              "\n",
              "        [[ 38,  38,  38],\n",
              "         [ 38,  38,  38],\n",
              "         [ 38,  38,  38],\n",
              "         ...,\n",
              "         [ 38,  38,  38],\n",
              "         [ 38,  38,  38],\n",
              "         [ 38,  38,  38]],\n",
              "\n",
              "        [[ 38,  38,  38],\n",
              "         [ 38,  38,  38],\n",
              "         [ 38,  38,  38],\n",
              "         ...,\n",
              "         [ 38,  38,  38],\n",
              "         [ 38,  38,  38],\n",
              "         [ 38,  38,  38]]]], dtype=uint8)"
            ]
          },
          "execution_count": 31,
          "metadata": {},
          "output_type": "execute_result"
        }
      ],
      "source": [
        "X_test"
      ]
    },
    {
      "cell_type": "code",
      "execution_count": 32,
      "metadata": {
        "id": "XkttGnGPJhrg"
      },
      "outputs": [],
      "source": [
        "import seaborn as sns"
      ]
    },
    {
      "cell_type": "code",
      "execution_count": 38,
      "metadata": {
        "id": "etbekmMvJk4c"
      },
      "outputs": [],
      "source": [
        "predicted_values = []\n",
        "\n",
        "for i in x_outputs:\n",
        "    predicted_values.append(i.argmax(axis=0))"
      ]
    },
    {
      "cell_type": "code",
      "execution_count": 39,
      "metadata": {
        "colab": {
          "base_uri": "https://localhost:8080/"
        },
        "id": "DCtMxWOxJnAY",
        "outputId": "a5ec671f-e875-4410-9246-7a6661cc99f4"
      },
      "outputs": [
        {
          "name": "stdout",
          "output_type": "stream",
          "text": [
            "(220,) (1098, 3)\n",
            "[2 0 1 1 1 1 2 2 1 2 1 2 2 2 1 2 2 0 1 2 1 2 1 1 1 2 2 0 2 1 2 2 1 1 1 1 1\n",
            " 1 1 2 0 2 1 2 2 1 0 1 1 2 1 1 1 1 1 1 2 2 1 2 0 1 1 1 2 0 1 1 1 2 1 1 2 1\n",
            " 1 1 2 2 1 1 1 2 0 0 2 1 2 1 2 2 1 1 2 1 1 1 1 2 1 0 1 2 2 1 1 1 1 2 2 0 1\n",
            " 1 2 2 1 0 1 1 1 0 2 2 1 2 2 1 2 1 2 1 1 2 1 1 2 0 1 1 2 1 1 0 1 2 1 1 1 1\n",
            " 2 2 0 1 2 0 1 2 2 1 1 2 2 1 1 2 1 1 2 2 1 2 2 2 2 2 0 1 2 0 1 2 0 1 1 2 1\n",
            " 1 2 2 1 1 2 1 1 2 2 1 2 2 2 2 1 2 1 1 2 2 1 1 1 1 2 0 1 2 1 2 2 1 1 2]\n",
            "[[ 0.8322159  -0.40994143  0.42935744]\n",
            " [-0.9019532  -0.16049038  0.9879879 ]\n",
            " [ 1.5147518  -1.4793448   0.23304543]\n",
            " ...\n",
            " [ 0.40043932  0.167279   -0.00457299]\n",
            " [ 0.32824692  0.09585574 -0.00566733]\n",
            " [ 0.70248073 -0.11407038  0.21909526]]\n"
          ]
        }
      ],
      "source": [
        "\n",
        "print(y_test.shape, x_outputs.shape)\n",
        "\n",
        "print(y_test)\n",
        "print(x_outputs)"
      ]
    },
    {
      "cell_type": "code",
      "execution_count": 40,
      "metadata": {
        "colab": {
          "base_uri": "https://localhost:8080/",
          "height": 618
        },
        "id": "pzTvVdTJJo-c",
        "outputId": "32906ec8-19fe-43dc-b521-5bb668dd9e71"
      },
      "outputs": [
        {
          "name": "stdout",
          "output_type": "stream",
          "text": [
            "[[ 89   0  32]\n",
            " [274   3 284]\n",
            " [313   4  99]]\n"
          ]
        },
        {
          "data": {
            "text/plain": [
              "<sklearn.metrics._plot.confusion_matrix.ConfusionMatrixDisplay at 0x79c090595f60>"
            ]
          },
          "execution_count": 40,
          "metadata": {},
          "output_type": "execute_result"
        },
        {
          "data": {
            "image/png": "[encoded data removed]",
            "text/plain": [
              "<Figure size 640x480 with 2 Axes>"
            ]
          },
          "metadata": {},
          "output_type": "display_data"
        }
      ],
      "source": [
        "from sklearn.metrics import confusion_matrix, ConfusionMatrixDisplay\n",
        "\n",
        "# X_train, X_test, y_train, y_test = train_test_split(data, labels, test_size=0.2, random_state=0)\n",
        "\n",
        "# __label = ['Adenocarcinoma cases', 'Largecell Carcinoma cases', 'Normal cases']\n",
        "\n",
        "cm = confusion_matrix(labels, predicted_values)\n",
        "\n",
        "print(cm)\n",
        "\n",
        "disp = ConfusionMatrixDisplay(cm,display_labels=['Normal', 'Adenocarcinoma', 'Large Cell Carcinoma'])\n",
        "disp.plot(xticks_rotation=45)\n"
      ]
    },
    {
      "cell_type": "code",
      "execution_count": 41,
      "metadata": {
        "colab": {
          "base_uri": "https://localhost:8080/"
        },
        "id": "zapjIG6SJrTY",
        "outputId": "e2577a9a-d676-429d-cc74-d8f58032ef0b"
      },
      "outputs": [
        {
          "name": "stdout",
          "output_type": "stream",
          "text": [
            "[[ 89   0  32]\n",
            " [274   3 284]\n",
            " [313   4  99]]\n"
          ]
        }
      ],
      "source": [
        "print(cm)"
      ]
    },
    {
      "cell_type": "code",
      "execution_count": 42,
      "metadata": {
        "id": "-BmZTwzBJtdZ"
      },
      "outputs": [],
      "source": [
        "acc_matrix = []\n",
        "for i in cm:\n",
        "    tmp = []\n",
        "    for j in i:\n",
        "        tmp.append(j/sum(i))\n",
        "    acc_matrix.append(tmp)"
      ]
    },
    {
      "cell_type": "code",
      "execution_count": 43,
      "metadata": {
        "colab": {
          "base_uri": "https://localhost:8080/"
        },
        "id": "CGiuokzXJvrU",
        "outputId": "11795bbd-4393-49a9-9525-201b28351b58"
      },
      "outputs": [
        {
          "name": "stdout",
          "output_type": "stream",
          "text": [
            "[[0.73553719 0.         0.26446281]\n",
            " [0.48841355 0.00534759 0.50623886]\n",
            " [0.75240385 0.00961538 0.23798077]]\n"
          ]
        }
      ],
      "source": [
        "print(np.matrix(acc_matrix))"
      ]
    },
    {
      "cell_type": "code",
      "execution_count": 44,
      "metadata": {
        "colab": {
          "base_uri": "https://localhost:8080/",
          "height": 594
        },
        "id": "_EvpcjNaJxoD",
        "outputId": "059e13c3-1cd9-4a06-f9db-d597537b63fa"
      },
      "outputs": [
        {
          "data": {
            "text/plain": [
              "<sklearn.metrics._plot.confusion_matrix.ConfusionMatrixDisplay at 0x79c09c80b490>"
            ]
          },
          "execution_count": 44,
          "metadata": {},
          "output_type": "execute_result"
        },
        {
          "data": {
            "image/png": "[encoded data removed]",
            "text/plain": [
              "<Figure size 640x480 with 2 Axes>"
            ]
          },
          "metadata": {},
          "output_type": "display_data"
        }
      ],
      "source": [
        "# disp = ConfusionMatrixDisplay()\n",
        "disp = ConfusionMatrixDisplay(np.matrix(acc_matrix),display_labels=['Largecell Carcinoma cases','Adenocarcinoma cases', 'Normal cases'])\n",
        "\n",
        "disp.plot(xticks_rotation=45)"
      ]
    },
    {
      "cell_type": "code",
      "execution_count": null,
      "metadata": {
        "id": "uaIQ_YC5Jzvf"
      },
      "outputs": [],
      "source": []
    }
  ],
  "metadata": {
    "colab": {
      "provenance": []
    },
    "kernelspec": {
      "display_name": "myvenv",
      "language": "python",
      "name": "python3"
    },
    "language_info": {
      "name": "python",
      "version": "3.12.4"
    }
  },
  "nbformat": 4,
  "nbformat_minor": 0
}
